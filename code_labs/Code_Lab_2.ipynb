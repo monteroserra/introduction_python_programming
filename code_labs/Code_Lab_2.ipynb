{
  "cells": [
    {
      "cell_type": "markdown",
      "metadata": {
        "id": "view-in-github",
        "colab_type": "text"
      },
      "source": [
        "<a href=\"https://colab.research.google.com/github/monteroserra/introduction_python_programming/blob/main/Code_Lab_2.ipynb\" target=\"_parent\"><img src=\"https://colab.research.google.com/assets/colab-badge.svg\" alt=\"Open In Colab\"/></a>"
      ]
    },
    {
      "cell_type": "markdown",
      "id": "d47a84c3",
      "metadata": {
        "id": "d47a84c3"
      },
      "source": [
        "# 🐍 Lab 2 – Python Essentials\n",
        "\n",
        "In this second lab, we will deepen our understanding of Python by covering more fundamental concepts.\n",
        "\n",
        "By the end of this lab, you’ll be able to:\n",
        "- Use conditional statements (`if`, `elif`, `else`)\n",
        "- Write `for` and `while` loops\n",
        "- Define your own functions\n",
        "- Work with lists and basic string operations\n",
        "- Use built-in Python functions\n",
        "\n",
        "---"
      ]
    },
    {
      "cell_type": "code",
      "source": [],
      "metadata": {
        "id": "cCjgDl9ijVY4"
      },
      "id": "cCjgDl9ijVY4",
      "execution_count": null,
      "outputs": []
    },
    {
      "cell_type": "markdown",
      "source": [
        "7. Dictionaries\n",
        "Dictionaries store values with keys.\n",
        "\n",
        "\n",
        "[ ]\n"
      ],
      "metadata": {
        "id": "sNJ2PSQ7jV0G"
      },
      "id": "sNJ2PSQ7jV0G"
    },
    {
      "cell_type": "code",
      "source": [
        "student = {\n",
        "    \"name\": \"Ali\",\n",
        "    \"age\": 22,\n",
        "    \"grade\": \"B\"\n",
        "}\n",
        "\n",
        "print(student[\"name\"])\n",
        "student[\"grade\"] = \"A\"  # Change value\n",
        "print(student)"
      ],
      "metadata": {
        "id": "h0A7l-UdjWoz"
      },
      "id": "h0A7l-UdjWoz",
      "execution_count": null,
      "outputs": []
    },
    {
      "cell_type": "markdown",
      "id": "757ea1f2",
      "metadata": {
        "id": "757ea1f2"
      },
      "source": [
        "## 🔀 1. Conditional Statements"
      ]
    },
    {
      "cell_type": "code",
      "execution_count": null,
      "id": "e8a858a6",
      "metadata": {
        "id": "e8a858a6"
      },
      "outputs": [],
      "source": [
        "age = 20\n",
        "if age >= 18:\n",
        "    print(\"You are an adult.\")\n",
        "else:\n",
        "    print(\"You are a minor.\")"
      ]
    },
    {
      "cell_type": "markdown",
      "id": "85413c42",
      "metadata": {
        "id": "85413c42"
      },
      "source": [
        "### ✍️ Exercise 1.1\n",
        "Write a program that checks if a number is positive, negative, or zero."
      ]
    },
    {
      "cell_type": "markdown",
      "id": "faf96e25",
      "metadata": {
        "id": "faf96e25"
      },
      "source": [
        "## 🔁 2. Loops"
      ]
    },
    {
      "cell_type": "code",
      "execution_count": null,
      "id": "5e21b0de",
      "metadata": {
        "id": "5e21b0de"
      },
      "outputs": [],
      "source": [
        "# for loop example\n",
        "for i in range(5):\n",
        "    print(\"Number:\", i)"
      ]
    },
    {
      "cell_type": "code",
      "execution_count": null,
      "id": "6e9a5ab6",
      "metadata": {
        "id": "6e9a5ab6"
      },
      "outputs": [],
      "source": [
        "# while loop example\n",
        "count = 0\n",
        "while count < 3:\n",
        "    print(\"Count:\", count)\n",
        "    count += 1"
      ]
    },
    {
      "cell_type": "markdown",
      "id": "ee6fe536",
      "metadata": {
        "id": "ee6fe536"
      },
      "source": [
        "### ✍️ Exercise 2.1\n",
        "Print all even numbers from 1 to 20 using a `for` loop."
      ]
    },
    {
      "cell_type": "markdown",
      "id": "cdd83795",
      "metadata": {
        "id": "cdd83795"
      },
      "source": [
        "## 🧰 3. Functions"
      ]
    },
    {
      "cell_type": "code",
      "execution_count": null,
      "id": "800e4b79",
      "metadata": {
        "id": "800e4b79"
      },
      "outputs": [],
      "source": [
        "def greet(name):\n",
        "    return f\"Hello, {name}!\"\n",
        "\n",
        "print(greet(\"Alice\"))"
      ]
    },
    {
      "cell_type": "markdown",
      "id": "a09befca",
      "metadata": {
        "id": "a09befca"
      },
      "source": [
        "### ✍️ Exercise 3.1\n",
        "Write a function that takes two numbers and returns their average."
      ]
    },
    {
      "cell_type": "markdown",
      "id": "9e26c319",
      "metadata": {
        "id": "9e26c319"
      },
      "source": [
        "## 📚 4. Lists and Indexing"
      ]
    },
    {
      "cell_type": "code",
      "execution_count": null,
      "id": "45daccc2",
      "metadata": {
        "id": "45daccc2"
      },
      "outputs": [],
      "source": [
        "fruits = [\"apple\", \"banana\", \"cherry\"]\n",
        "print(fruits[0])  # First element\n",
        "print(fruits[-1])  # Last element"
      ]
    },
    {
      "cell_type": "markdown",
      "id": "16ab314d",
      "metadata": {
        "id": "16ab314d"
      },
      "source": [
        "### ✍️ Exercise 4.1\n",
        "Create a list of your 5 favorite movies and print the second and fourth."
      ]
    },
    {
      "cell_type": "markdown",
      "id": "5802393c",
      "metadata": {
        "id": "5802393c"
      },
      "source": [
        "## 🔤 5. Strings and Methods"
      ]
    },
    {
      "cell_type": "code",
      "execution_count": null,
      "id": "a44456fe",
      "metadata": {
        "id": "a44456fe"
      },
      "outputs": [],
      "source": [
        "text = \"Python is fun!\"\n",
        "print(text.upper())\n",
        "print(text.replace(\"fun\", \"awesome\"))"
      ]
    },
    {
      "cell_type": "markdown",
      "id": "a91f9ca1",
      "metadata": {
        "id": "a91f9ca1"
      },
      "source": [
        "### ✍️ Exercise 5.1\n",
        "Write a program that asks the user for a sentence and prints how many words it has."
      ]
    },
    {
      "cell_type": "markdown",
      "id": "e40e0a93",
      "metadata": {
        "id": "e40e0a93"
      },
      "source": [
        "## 🧠 6. Useful Built-in Functions"
      ]
    },
    {
      "cell_type": "code",
      "execution_count": null,
      "id": "77a1422d",
      "metadata": {
        "id": "77a1422d"
      },
      "outputs": [],
      "source": [
        "numbers = [4, 7, 2, 9]\n",
        "print(\"Max:\", max(numbers))\n",
        "print(\"Min:\", min(numbers))\n",
        "print(\"Sum:\", sum(numbers))"
      ]
    },
    {
      "cell_type": "markdown",
      "id": "81356a46",
      "metadata": {
        "id": "81356a46"
      },
      "source": [
        "### ✍️ Exercise 6.1\n",
        "Ask the user for five numbers, store them in a list, and print the average using built-in functions."
      ]
    },
    {
      "cell_type": "markdown",
      "id": "c1f801f4",
      "metadata": {
        "id": "c1f801f4"
      },
      "source": [
        "## 🧠 Final Exercises (To Complete on Your Own)\n",
        "Complete the following exercises and upload your completed notebook:\n",
        "\n",
        "### 📝 Exercise A\n",
        "Write a program that asks the user for a number and prints whether it’s odd or even.\n",
        "\n",
        "### 📝 Exercise B\n",
        "Write a function that returns the factorial of a number using a loop.\n",
        "\n",
        "### 📝 Exercise C\n",
        "Ask the user for a list of numbers (comma-separated), convert them into integers, and print the maximum.\n",
        "\n",
        "### 📝 Exercise D\n",
        "Create a function `is_palindrome(text)` that checks if a string is the same forwards and backwards.\n",
        "\n",
        "### 📝 Exercise E (Challenge)\n",
        "Write a mini grade calculator:\n",
        "- Ask the user for 3 exam scores\n",
        "- Calculate the average\n",
        "- Print the grade: A (90+), B (80+), C (70+), D (60+), F (below 60)\n"
      ]
    }
  ],
  "metadata": {
    "colab": {
      "provenance": [],
      "include_colab_link": true
    }
  },
  "nbformat": 4,
  "nbformat_minor": 5
}
