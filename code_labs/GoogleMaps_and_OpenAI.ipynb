{
  "cells": [
    {
      "cell_type": "markdown",
      "metadata": {
        "id": "view-in-github",
        "colab_type": "text"
      },
      "source": [
        "<a href=\"https://colab.research.google.com/github/monteroserra/introduction_python_programming/blob/main/code_labs/GoogleMaps_and_OpenAI.ipynb\" target=\"_parent\"><img src=\"https://colab.research.google.com/assets/colab-badge.svg\" alt=\"Open In Colab\"/></a>"
      ]
    },
    {
      "cell_type": "markdown",
      "metadata": {
        "id": "4Kkk46PSyKry"
      },
      "source": [
        "# OpenAI API w Google Maps\n",
        "\n",
        "In this Notebook I will explore:\n",
        "1. GoogleMaps API\n",
        "2. FunctionCaling OpenAI API\n",
        "3. How to combine both."
      ]
    },
    {
      "cell_type": "markdown",
      "metadata": {
        "id": "3GVGlMSjyK1I"
      },
      "source": [
        "Key Resource: https://cookbook.openai.com/examples/function_calling_finding_nearby_places\n",
        "\n",
        "\n",
        "\n",
        "Function calling for nearby places: Leveraging the Google Places API and customer profiles\n",
        "\n",
        "\n",
        "## Setup\n",
        "Google Places API\n",
        "\n",
        "To use the Google Places API, you'll need two things:\n",
        "\n",
        "Google Account: If you don't already have one, you will need to create a Google account.\n",
        "\n",
        "Google Places API Key: The API key is a unique identifier that is used to authenticate requests associated with your project for usage and billing purposes. You can get your API key from the Google Cloud Console."
      ]
    },
    {
      "cell_type": "markdown",
      "metadata": {
        "id": "tHm6NaRN1lQf"
      },
      "source": []
    },
    {
      "cell_type": "code",
      "execution_count": null,
      "metadata": {
        "id": "5ITwGRTIIAEK"
      },
      "outputs": [],
      "source": [
        "# Imports\n",
        "import os\n",
        "import requests\n"
      ]
    },
    {
      "cell_type": "code",
      "execution_count": null,
      "metadata": {
        "id": "YP5tMGK0IAEO"
      },
      "outputs": [],
      "source": [
        "## When working locally\n",
        "\n",
        "from dotenv import load_dotenv\n",
        "\n",
        "# Load environment variables from the .env file\n",
        "load_dotenv()\n",
        "\n",
        "# Access the API keys\n",
        "openai_api_key = os.getenv(\"OPENAI_API_KEY\")\n",
        "google_maps_api_key = os.getenv(\"GOOGLE_MAPS_API_KEY\")\n",
        "\n",
      ]
    },
    {
      "cell_type": "code",
      "execution_count": null,
      "metadata": {
        "id": "8nwtBboeIAER",
        "outputId": "50569508-c842-4ab7-e08e-3f1030c7c744",
        "colab": {
          "base_uri": "https://localhost:8080/"
        }
      },
      "outputs": [
        {
          "output_type": "stream",
          "name": "stdout",
          "text": [
            "Mounted at /content/drive\n"
          ]
        }
      ],
      "source": [
        "# When working from G Collab\n",
        "\n",
        "from google.colab import drive\n",
        "import json\n",
        "\n",
        "# Mount Google Drive\n",
        "drive.mount('/content/drive')\n",
        "\n",
        "secrets_path = '/content/drive/My Drive/secrets/secrets.json'\n",
        "\n",
        "# Load the secrets from the JSON file\n",
        "with open(secrets_path, 'r') as f:\n",
        "    secrets = json.load(f)\n",
        "\n",
        "# Extract API keys\n",
        "openai_api_key = secrets.get(\"OPENAI_API_KEY\")\n",
        "google_maps_api_key = secrets.get(\"GOOGLE_MAPS_API_KEY\")"
      ]
    },
    {
      "cell_type": "code",
      "source": [
        "\n",
      
      ],
      "metadata": {
        "id": "MwmYxEsdIeQU",
        "outputId": "e807661f-5c0b-4a70-c83b-044ff3146ae7",
        "colab": {
          "base_uri": "https://localhost:8080/"
        }
      },
      "execution_count": null,
      "outputs": [
        {
          "output_type": "stream",
          "name": "stdout",
          "text": [
          ]
        }
      ]
    },
    {
      "cell_type": "code",
      "execution_count": null,
      "metadata": {
        "id": "EqAGNcwUIAET"
      },
      "outputs": [],
      "source": [
        "# Define the base URL for the APIs\n",
        "\n",
        "# Base endpoint for the Nearby Search request\n",
        "nearby_url = \"https://maps.googleapis.com/maps/api/place/nearbysearch/json\"\n",
        "\n",
        "# Base endpoint for the Distance Matrix request\n",
        "distance_matrix_url = \"https://maps.googleapis.com/maps/api/distancematrix/json\"\n"
      ]
    },
    {
      "cell_type": "code",
      "execution_count": null,
      "metadata": {
        "colab": {
          "base_uri": "https://localhost:8080/"
        },
        "id": "Gh6yPhaeyZTd",
        "outputId": "a8675c39-76c4-411a-f940-31e003013180"
      },
      "outputs": [
        {
          "output_type": "stream",
          "name": "stdout",
          "text": [
            "Formatted Address: 1600 Amphitheatre Pkwy, Mountain View, CA 94043, USA\n",
            "Latitude: 37.4225022\n",
            "Longitude: -122.0847398\n"
          ]
        }
      ],
      "source": [
        "\n",
        "# Define the base endpoint for the Geocoding API\n",
        "geocode_url = \"https://maps.googleapis.com/maps/api/geocode/json\"\n",
        "\n",
        "# The address you want to geocode\n",
        "address = \"1600 Amphitheatre Parkway, Mountain View, CA\"\n",
        "\n",
        "# Set up the parameters dictionary\n",
        "params = {\n",
        "    \"address\": address,\n",
        "    \"key\": google_maps_api_key\n",
        "}\n",
        "\n",
        "# Send the GET request to the Google Maps Geocoding API\n",
        "response = requests.get(geocode_url, params=params)\n",
        "\n",
        "# Parse the response as JSON\n",
        "data = response.json()\n",
        "\n",
        "# Check the status and print the formatted address and coordinates\n",
        "if data.get(\"status\") == \"OK\":\n",
        "    result = data[\"results\"][0]\n",
        "    formatted_address = result[\"formatted_address\"]\n",
        "    location = result[\"geometry\"][\"location\"]\n",
        "    print(\"Formatted Address:\", formatted_address)\n",
        "    print(\"Latitude:\", location[\"lat\"])\n",
        "    print(\"Longitude:\", location[\"lng\"])\n",
        "else:\n",
        "    print(\"Error:\", data.get(\"status\"), data.get(\"error_message\"))\n"
      ]
    },
    {
      "cell_type": "markdown",
      "metadata": {
        "id": "CSRd8gQg23pQ"
      },
      "source": [
        "Let's try to find places around Barceloneta\n",
        "\n",
        "Latitude: 41.381724 / N 41° 22' 54.206''\n",
        "Longitude: 2.188289 / E 2° 11' 17.839''"
      ]
    },
    {
      "cell_type": "code",
      "execution_count": null,
      "metadata": {
        "id": "GUHMG_Zx6Max"
      },
      "outputs": [],
      "source": [
        "## utils Google Maps\n",
        "\n",
        "def search_places_by_rating_with_min_reviews(place_type, radius=1000, min_reviews=200):\n",
        "    params = {\n",
        "        \"key\": google_maps_api_key,\n",
        "        \"location\": f\"{latitude},{longitude}\",\n",
        "        \"radius\": radius,\n",
        "        \"type\": place_type\n",
        "    }\n",
        "    response = requests.get(nearby_url, params=params)\n",
        "    data = response.json()\n",
        "\n",
        "    if data.get(\"status\") == \"OK\":\n",
        "        places = data.get(\"results\", [])\n",
        "        # Filter places: must have rating and user_ratings_total >= min_reviews\n",
        "        places = [p for p in places if 'rating' in p and p.get('user_ratings_total', 0) >= min_reviews]\n",
        "\n",
        "        # Sort by rating descending\n",
        "        places.sort(key=lambda x: x['rating'], reverse=True)\n",
        "\n",
        "        top_5 = places[:5]\n",
        "\n",
        "        if not top_5:\n",
        "            print(f\"No {place_type}(s) found with at least {min_reviews} reviews.\")\n",
        "            return []\n",
        "\n",
        "        return top_5\n",
        "    else:\n",
        "        print(\"Error:\", data.get(\"status\"), data.get(\"error_message\"))\n",
        "        return []\n",
        "\n",
        "def add_walking_distance_to_places(places):\n",
        "    if not places:\n",
        "        return\n",
        "\n",
        "    # Extract destination coordinates from places\n",
        "    destinations = []\n",
        "    for p in places:\n",
        "        loc = p[\"geometry\"][\"location\"]\n",
        "        dest_str = f\"{loc['lat']},{loc['lng']}\"\n",
        "        destinations.append(dest_str)\n",
        "\n",
        "    # Join destinations with '|'\n",
        "    destination_param = \"|\".join(destinations)\n",
        "\n",
        "    params = {\n",
        "        \"key\": google_maps_api_key,\n",
        "        \"origins\": f\"{latitude},{longitude}\",\n",
        "        \"destinations\": destination_param,\n",
        "        \"mode\": \"walking\"\n",
        "    }\n",
        "\n",
        "    response = requests.get(distance_matrix_url, params=params)\n",
        "    data = response.json()\n",
        "\n",
        "    if data.get(\"status\") == \"OK\":\n",
        "        rows = data.get(\"rows\", [])\n",
        "        if rows and len(rows) > 0:\n",
        "            elements = rows[0].get(\"elements\", [])\n",
        "            for i, element in enumerate(elements):\n",
        "                if element.get(\"status\") == \"OK\":\n",
        "                    distance_text = element[\"distance\"][\"text\"]\n",
        "                    duration_text = element[\"duration\"][\"text\"]\n",
        "                    # Add this info back into the place dictionary\n",
        "                    places[i][\"walking_distance\"] = distance_text\n",
        "                    places[i][\"walking_duration\"] = duration_text\n",
        "                else:\n",
        "                    places[i][\"walking_distance\"] = \"N/A\"\n",
        "                    places[i][\"walking_duration\"] = \"N/A\"\n",
        "    else:\n",
        "        print(\"Distance Matrix Error:\", data.get(\"status\"), data.get(\"error_message\"))\n",
        "        # If error, just mark as N/A\n",
        "        for p in places:\n",
        "            p[\"walking_distance\"] = \"N/A\"\n",
        "            p[\"walking_duration\"] = \"N/A\"\n"
      ]
    },
    {
      "cell_type": "code",
      "execution_count": null,
      "metadata": {
        "colab": {
          "base_uri": "https://localhost:8080/"
        },
        "id": "W3rfUAtS6eYb",
        "outputId": "46eb0fba-69cf-478a-f942-86bb290a4ade"
      },
      "outputs": [
        {
          "name": "stdout",
          "output_type": "stream",
          "text": [
            "\n",
            "Top 5 restaurants by rating (>=200 reviews) within 1000m, including walking distance:\n",
            "\n",
            "Name: Cinemark Century Mountain View 16\n",
            "Rating: 4.6\n",
            "Reviews: 7919\n",
            "Address: 1500 North Shoreline Boulevard, Mountain View\n",
            "Walking Distance: 1.4 km, Walking Duration: 20 mins\n",
            "\n",
            "Name: In-N-Out Burger\n",
            "Rating: 4.5\n",
            "Reviews: 7175\n",
            "Address: 1159 North Rengstorff Avenue, Mountain View\n",
            "Walking Distance: 1.4 km, Walking Duration: 20 mins\n",
            "\n",
            "Name: Krispy Kreme\n",
            "Rating: 4.3\n",
            "Reviews: 1397\n",
            "Address: 2146 Leghorn Street, Mountain View\n",
            "Walking Distance: 1.3 km, Walking Duration: 20 mins\n",
            "\n",
            "Name: Dohatsuten Ramen & Tapas\n",
            "Rating: 4.3\n",
            "Reviews: 1097\n",
            "Address: 799 San Antonio Road, Palo Alto\n",
            "Walking Distance: 2.2 km, Walking Duration: 31 mins\n",
            "\n",
            "Name: Starbucks\n",
            "Rating: 4.2\n",
            "Reviews: 1051\n",
            "Address: 1380 Pear Avenue, Mountain View\n",
            "Walking Distance: 1.5 km, Walking Duration: 21 mins\n",
            "\n"
          ]
        }
      ],
      "source": [
        "#Example: Top 5 restaurants by rating with at least 200 reviews\n",
        "\n",
        "latitude = location['lat']\n",
        "longitude = location['lng']\n",
        "\n",
        "radius = 2001\n",
        "min_reviews = 1000\n",
        "\n",
        "top_places = search_places_by_rating_with_min_reviews(\"restaurant\", radius, min_reviews)\n",
        "add_walking_distance_to_places(top_places)\n",
        "\n",
        "# Print the results with walking distance\n",
        "if top_places:\n",
        "    print(f\"\\nTop {len(top_places)} restaurants by rating (>=200 reviews) within 1000m, including walking distance:\\n\")\n",
        "    for place in top_places:\n",
        "        name = place.get(\"name\", \"No Name\")\n",
        "        rating = place.get(\"rating\", \"No Rating\")\n",
        "        reviews = place.get(\"user_ratings_total\", 0)\n",
        "        address = place.get(\"vicinity\", \"No Address\")\n",
        "        walk_dist = place.get(\"walking_distance\", \"N/A\")\n",
        "        walk_dur = place.get(\"walking_duration\", \"N/A\")\n",
        "\n",
        "        print(f\"Name: {name}\")\n",
        "        print(f\"Rating: {rating}\")\n",
        "        print(f\"Reviews: {reviews}\")\n",
        "        print(f\"Address: {address}\")\n",
        "        print(f\"Walking Distance: {walk_dist}, Walking Duration: {walk_dur}\\n\")\n"
      ]
    },
    {
      "cell_type": "markdown",
      "metadata": {
        "id": "ZCPG9dHZ6DjC"
      },
      "source": [
        "## Now integration with LLM"
      ]
    },
    {
      "cell_type": "markdown",
      "metadata": {
        "id": "x4IJQPbB7lOP"
      },
      "source": [
        "### Set UP OpenAI API (require key)"
      ]
    },
    {
      "cell_type": "code",
      "execution_count": null,
      "metadata": {
        "id": "WZ2Kur-J8gZ-"
      },
      "outputs": [],
      "source": [
        "pip install openai --quiet\n",
        "\n"
      ]
    },
    {
      "cell_type": "code",
      "execution_count": null,
      "metadata": {
        "id": "6upU_SJF6Dqj"
      },
      "outputs": [],
      "source": [
        "import json\n",
        "from openai import OpenAI\n",
        "import os\n",
        "import requests\n",
        "import openai\n",
        "#openai.api_key = os.environ.get(\"OPENAI_API_KEY\", \"\")"
      ]
    },
    {
      "cell_type": "code",
      "execution_count": null,
      "metadata": {
        "id": "J-WKKKSCBqsh"
      },
      "outputs": [],
      "source": [
        "my_openai_key = \"XXX\"\n"
      ]
    },
    {
      "cell_type": "code",
      "execution_count": null,
      "metadata": {
        "colab": {
          "base_uri": "https://localhost:8080/",
          "height": 356
        },
        "id": "kYPgBSAJ6Dtr",
        "outputId": "39ef78c2-ed04-45ee-a8ca-86f55da050f2"
      },
      "outputs": [
        {
          "ename": "TypeError",
          "evalue": "Client.__init__() got an unexpected keyword argument 'proxies'",
          "output_type": "error",
          "traceback": [
            "\u001b[0;31m---------------------------------------------------------------------------\u001b[0m",
            "\u001b[0;31mTypeError\u001b[0m                                 Traceback (most recent call last)",
            "\u001b[0;32m<ipython-input-67-5b6a265a6625>\u001b[0m in \u001b[0;36m<cell line: 4>\u001b[0;34m()\u001b[0m\n\u001b[1;32m      2\u001b[0m \u001b[0;32mfrom\u001b[0m \u001b[0mopenai\u001b[0m \u001b[0;32mimport\u001b[0m \u001b[0mOpenAI\u001b[0m\u001b[0;34m\u001b[0m\u001b[0;34m\u001b[0m\u001b[0m\n\u001b[1;32m      3\u001b[0m \u001b[0;34m\u001b[0m\u001b[0m\n\u001b[0;32m----> 4\u001b[0;31m client = OpenAI(\n\u001b[0m\u001b[1;32m      5\u001b[0m     \u001b[0mapi_key\u001b[0m\u001b[0;34m=\u001b[0m\u001b[0mmy_openai_key\u001b[0m  \u001b[0;31m# This is the default and can be omitted\u001b[0m\u001b[0;34m\u001b[0m\u001b[0;34m\u001b[0m\u001b[0m\n\u001b[1;32m      6\u001b[0m )\n",
            "\u001b[0;32m/usr/local/lib/python3.10/dist-packages/openai/_client.py\u001b[0m in \u001b[0;36m__init__\u001b[0;34m(self, api_key, organization, project, base_url, timeout, max_retries, default_headers, default_query, http_client, _strict_response_validation)\u001b[0m\n\u001b[1;32m    121\u001b[0m             \u001b[0mbase_url\u001b[0m \u001b[0;34m=\u001b[0m \u001b[0;34mf\"https://api.openai.com/v1\"\u001b[0m\u001b[0;34m\u001b[0m\u001b[0;34m\u001b[0m\u001b[0m\n\u001b[1;32m    122\u001b[0m \u001b[0;34m\u001b[0m\u001b[0m\n\u001b[0;32m--> 123\u001b[0;31m         super().__init__(\n\u001b[0m\u001b[1;32m    124\u001b[0m             \u001b[0mversion\u001b[0m\u001b[0;34m=\u001b[0m\u001b[0m__version__\u001b[0m\u001b[0;34m,\u001b[0m\u001b[0;34m\u001b[0m\u001b[0;34m\u001b[0m\u001b[0m\n\u001b[1;32m    125\u001b[0m             \u001b[0mbase_url\u001b[0m\u001b[0;34m=\u001b[0m\u001b[0mbase_url\u001b[0m\u001b[0;34m,\u001b[0m\u001b[0;34m\u001b[0m\u001b[0;34m\u001b[0m\u001b[0m\n",
            "\u001b[0;32m/usr/local/lib/python3.10/dist-packages/openai/_base_client.py\u001b[0m in \u001b[0;36m__init__\u001b[0;34m(self, version, base_url, max_retries, timeout, transport, proxies, limits, http_client, custom_headers, custom_query, _strict_response_validation)\u001b[0m\n\u001b[1;32m    855\u001b[0m             \u001b[0mmax_retries\u001b[0m\u001b[0;34m=\u001b[0m\u001b[0mmax_retries\u001b[0m\u001b[0;34m,\u001b[0m\u001b[0;34m\u001b[0m\u001b[0;34m\u001b[0m\u001b[0m\n\u001b[1;32m    856\u001b[0m             \u001b[0mcustom_query\u001b[0m\u001b[0;34m=\u001b[0m\u001b[0mcustom_query\u001b[0m\u001b[0;34m,\u001b[0m\u001b[0;34m\u001b[0m\u001b[0;34m\u001b[0m\u001b[0m\n\u001b[0;32m--> 857\u001b[0;31m             \u001b[0mcustom_headers\u001b[0m\u001b[0;34m=\u001b[0m\u001b[0mcustom_headers\u001b[0m\u001b[0;34m,\u001b[0m\u001b[0;34m\u001b[0m\u001b[0;34m\u001b[0m\u001b[0m\n\u001b[0m\u001b[1;32m    858\u001b[0m             \u001b[0m_strict_response_validation\u001b[0m\u001b[0;34m=\u001b[0m\u001b[0m_strict_response_validation\u001b[0m\u001b[0;34m,\u001b[0m\u001b[0;34m\u001b[0m\u001b[0;34m\u001b[0m\u001b[0m\n\u001b[1;32m    859\u001b[0m         )\n",
            "\u001b[0;32m/usr/local/lib/python3.10/dist-packages/openai/_base_client.py\u001b[0m in \u001b[0;36m__init__\u001b[0;34m(self, **kwargs)\u001b[0m\n\u001b[1;32m    753\u001b[0m         \u001b[0mkwargs\u001b[0m\u001b[0;34m.\u001b[0m\u001b[0msetdefault\u001b[0m\u001b[0;34m(\u001b[0m\u001b[0;34m\"limits\"\u001b[0m\u001b[0;34m,\u001b[0m \u001b[0mDEFAULT_CONNECTION_LIMITS\u001b[0m\u001b[0;34m)\u001b[0m\u001b[0;34m\u001b[0m\u001b[0;34m\u001b[0m\u001b[0m\n\u001b[1;32m    754\u001b[0m         \u001b[0mkwargs\u001b[0m\u001b[0;34m.\u001b[0m\u001b[0msetdefault\u001b[0m\u001b[0;34m(\u001b[0m\u001b[0;34m\"follow_redirects\"\u001b[0m\u001b[0;34m,\u001b[0m \u001b[0;32mTrue\u001b[0m\u001b[0;34m)\u001b[0m\u001b[0;34m\u001b[0m\u001b[0;34m\u001b[0m\u001b[0m\n\u001b[0;32m--> 755\u001b[0;31m         \u001b[0msuper\u001b[0m\u001b[0;34m(\u001b[0m\u001b[0;34m)\u001b[0m\u001b[0;34m.\u001b[0m\u001b[0m__init__\u001b[0m\u001b[0;34m(\u001b[0m\u001b[0;34m**\u001b[0m\u001b[0mkwargs\u001b[0m\u001b[0;34m)\u001b[0m\u001b[0;34m\u001b[0m\u001b[0;34m\u001b[0m\u001b[0m\n\u001b[0m\u001b[1;32m    756\u001b[0m \u001b[0;34m\u001b[0m\u001b[0m\n\u001b[1;32m    757\u001b[0m \u001b[0;34m\u001b[0m\u001b[0m\n",
            "\u001b[0;31mTypeError\u001b[0m: Client.__init__() got an unexpected keyword argument 'proxies'"
          ]
        }
      ],
      "source": [
        "import os\n",
        "from openai import OpenAI\n",
        "\n",
        "client = OpenAI(\n",
        "    api_key=my_openai_key  # This is the default and can be omitted\n",
        ")\n",
        "\n",
        "chat_completion = client.chat.completions.create(\n",
        "    messages=[\n",
        "        {\n",
        "            \"role\": \"user\",\n",
        "            \"content\": \"Say this is a test\",\n",
        "        }\n",
        "    ],\n",
        "    model=\"gpt-4o\",\n",
        ")"
      ]
    },
    {
      "cell_type": "code",
      "execution_count": null,
      "metadata": {
        "id": "VUpwH5xa9DGx"
      },
      "outputs": [],
      "source": []
    },
    {
      "cell_type": "markdown",
      "metadata": {
        "id": "ymVagWY39DVp"
      },
      "source": [
        "In this code snippet, we are defining a function fetch_customer_profile that accepts a user_id and returns a mock user profile.\n",
        "\n",
        "This function simulates an API call that fetches user data from a database. For this demo, we're using hard-coded data. The user profile contains various details such as the user's location (set to the coordinates of the Golden Gate Bridge for this example), preferences in food and activities, app usage metrics, recent interactions, and user rank.\n",
        "\n",
        "In a production environment, you would replace this hard-coded data with a real API call to your user database."
      ]
    },
    {
      "cell_type": "code",
      "execution_count": null,
      "metadata": {
        "id": "ZWK4iRvR4k1j"
      },
      "outputs": [],
      "source": [
        "def fetch_customer_profile(user_id):\n",
        "    # You can replace this with a real API call in the production code\n",
        "    if user_id == \"user1234\":\n",
        "        return {\n",
        "            \"name\": \"John Doe\",\n",
        "            \"location\": {\n",
        "                \"latitude\": 37.7955,\n",
        "                \"longitude\": -122.4026,\n",
        "            },\n",
        "            \"preferences\": {\n",
        "                \"food\": [\"Italian\", \"Sushi\"],\n",
        "                \"activities\": [\"Hiking\", \"Reading\"],\n",
        "            },\n",
        "            \"behavioral_metrics\": {\n",
        "                \"app_usage\": {\n",
        "                    \"daily\": 2,  # hours\n",
        "                    \"weekly\": 14  # hours\n",
        "                },\n",
        "                \"favourite_post_categories\": [\"Nature\", \"Food\", \"Books\"],\n",
        "                \"active_time\": \"Evening\",\n",
        "            },\n",
        "            \"recent_searches\": [\"Italian restaurants nearby\", \"Book clubs\"],\n",
        "            \"recent_interactions\": [\"Liked a post about 'Best Pizzas in New York'\", \"Commented on a post about 'Central Park Trails'\"],\n",
        "            \"user_rank\": \"Gold\",  # based on some internal ranking system\n",
        "        }\n",
        "    else:\n",
        "        return None"
      ]
    },
    {
      "cell_type": "markdown",
      "metadata": {
        "id": "lblhhc_T9URw"
      },
      "source": [
        "Requesting and processing data from Google Places API\n",
        "The function call_google_places_api serves to request information from the Google Places API and provide a list of the top two places based on a given place_type and optional food_preference. We've limited this function to the top two results to manage usage since this is a paid service. However, you can modify this to retrieve any number of results as per your requirement.\n",
        "\n",
        "The function is configured with a hardcoded location (set to the coordinates of the Transamerica Pyramid), your Google API key, and specific request parameters. Depending on the place_type, it formulates the appropriate API request URL. If the place_type is a restaurant and a food_preference is specified, it is included in the API request.\n",
        "\n",
        "After sending the GET request, the function checks the response status. If it's successful, it processes the JSON response, extracts the relevant details using the get_place_details function, and returns them in a human-readable format. If the request fails, it prints out the error for debugging.\n",
        "\n",
        "The get_place_details function is used to retrieve more detailed information about a place, given its place_id. It sends a GET request to the Google Place Details API and returns the result if the request is successful. If the request fails, it prints out the error for debugging.\n",
        "\n",
        "Both functions handle exceptions and return an error message if something goes wrong."
      ]
    },
    {
      "cell_type": "code",
      "execution_count": null,
      "metadata": {
        "id": "33SVLoMx8_jf"
      },
      "outputs": [],
      "source": [
        "def get_place_details(place_id, api_key):\n",
        "    URL = f\"https://maps.googleapis.com/maps/api/place/details/json?place_id={place_id}&key={api_key}\"\n",
        "    response = requests.get(URL)\n",
        "    if response.status_code == 200:\n",
        "        result = json.loads(response.content)[\"result\"]\n",
        "        return result\n",
        "    else:\n",
        "        print(f\"Google Place Details API request failed with status code {response.status_code}\")\n",
        "        print(f\"Response content: {response.content}\")\n",
        "        return None"
      ]
    },
    {
      "cell_type": "code",
      "execution_count": null,
      "metadata": {
        "id": "adn_lHKz9Yhl"
      },
      "outputs": [],
      "source": [
        "def call_google_places_api(user_id, place_type, food_preference=None):\n",
        "    try:\n",
        "        # Fetch customer profile\n",
        "        customer_profile = fetch_customer_profile(user_id)\n",
        "        if customer_profile is None:\n",
        "            return \"I couldn't find your profile. Could you please verify your user ID?\"\n",
        "\n",
        "        # Get location from customer profile\n",
        "        lat = customer_profile[\"location\"][\"latitude\"]\n",
        "        lng = customer_profile[\"location\"][\"longitude\"]\n",
        "\n",
        "        API_KEY = os.getenv('GOOGLE_PLACES_API_KEY')  # retrieve API key from environment variable\n",
        "        LOCATION = f\"{lat},{lng}\"\n",
        "        RADIUS = 500  # search within a radius of 500 meters\n",
        "        TYPE = place_type\n",
        "\n",
        "        # If the place_type is restaurant and food_preference is not None, include it in the API request\n",
        "        if place_type == 'restaurant' and food_preference:\n",
        "            URL = f\"https://maps.googleapis.com/maps/api/place/nearbysearch/json?location={LOCATION}&radius={RADIUS}&type={TYPE}&keyword={food_preference}&key={API_KEY}\"\n",
        "        else:\n",
        "            URL = f\"https://maps.googleapis.com/maps/api/place/nearbysearch/json?location={LOCATION}&radius={RADIUS}&type={TYPE}&key={API_KEY}\"\n",
        "\n",
        "        response = requests.get(URL)\n",
        "        if response.status_code == 200:\n",
        "            results = json.loads(response.content)[\"results\"]\n",
        "            places = []\n",
        "            for place in results[:2]:  # limit to top 2 results\n",
        "                place_id = place.get(\"place_id\")\n",
        "                place_details = get_place_details(place_id, API_KEY)  # Get the details of the place\n",
        "\n",
        "                place_name = place_details.get(\"name\", \"N/A\")\n",
        "                place_types = next((t for t in place_details.get(\"types\", []) if t not in [\"food\", \"point_of_interest\"]), \"N/A\")  # Get the first type of the place, excluding \"food\" and \"point_of_interest\"\n",
        "                place_rating = place_details.get(\"rating\", \"N/A\")  # Get the rating of the place\n",
        "                total_ratings = place_details.get(\"user_ratings_total\", \"N/A\")  # Get the total number of ratings\n",
        "                place_address = place_details.get(\"vicinity\", \"N/A\")  # Get the vicinity of the place\n",
        "\n",
        "                if ',' in place_address:  # If the address contains a comma\n",
        "                    street_address = place_address.split(',')[0]  # Split by comma and keep only the first part\n",
        "                else:\n",
        "                    street_address = place_address\n",
        "\n",
        "                # Prepare the output string for this place\n",
        "                place_info = f\"{place_name} is a {place_types} located at {street_address}. It has a rating of {place_rating} based on {total_ratings} user reviews.\"\n",
        "\n",
        "                places.append(place_info)\n",
        "\n",
        "            return places\n",
        "        else:\n",
        "            print(f\"Google Places API request failed with status code {response.status_code}\")\n",
        "            print(f\"Response content: {response.content}\")  # print out the response content for debugging\n",
        "            return []\n",
        "    except Exception as e:\n",
        "        print(f\"Error during the Google Places API call: {e}\")\n",
        "        return []"
      ]
    },
    {
      "cell_type": "markdown",
      "metadata": {
        "id": "2pKmaIkt9h3O"
      },
      "source": [
        "Generating user-specific recommendations with GPT-3.5-Turbo and Google Places API\n",
        "The function provide_user_specific_recommendations interacts with GPT-3.5-Turbo and the Google Places API to provide responses tailored to a user's preferences and location.\n",
        "\n",
        "First, it fetches the customer's profile using their user_id. If no profile is found, it returns an error message.\n",
        "\n",
        "With a valid profile, it extracts the customer's food preferences and then interacts with the OpenAI model. It provides an initial system message, giving context to the AI model about its role, user preferences, and the usage of the Google Places API function.\n",
        "\n",
        "The user input is also sent to the model as a message, and the function call_google_places_api is defined in the functions parameter for the AI model to call as needed.\n",
        "\n",
        "Finally, it processes the model's response. If the model makes a function call to the Google Places API, the function is executed with the appropriate arguments, and the names of nearby places are returned. If there are no such places or the request isn't understood, appropriate error messages are returned."
      ]
    },
    {
      "cell_type": "code",
      "execution_count": null,
      "metadata": {
        "id": "lwKd6nTY9ewS"
      },
      "outputs": [],
      "source": [
        "def provide_user_specific_recommendations(user_input, user_id):\n",
        "    customer_profile = fetch_customer_profile(user_id)\n",
        "    if customer_profile is None:\n",
        "        return \"I couldn't find your profile. Could you please verify your user ID?\"\n",
        "\n",
        "    customer_profile_str = json.dumps(customer_profile)\n",
        "\n",
        "    food_preference = customer_profile.get('preferences', {}).get('food', [])[0] if customer_profile.get('preferences', {}).get('food') else None\n",
        "\n",
        "\n",
        "    response = client.chat.completions.create(\n",
        "        model=\"gpt-3.5-turbo\",\n",
        "        messages=[\n",
        "    {\n",
        "        \"role\": \"system\",\n",
        "        \"content\": f\"You are a sophisticated AI assistant, a specialist in user intent detection and interpretation. Your task is to perceive and respond to the user's needs, even when they're expressed in an indirect or direct manner. You excel in recognizing subtle cues: for example, if a user states they are 'hungry', you should assume they are seeking nearby dining options such as a restaurant or a cafe. If they indicate feeling 'tired', 'weary', or mention a long journey, interpret this as a request for accommodation options like hotels or guest houses. However, remember to navigate the fine line of interpretation and assumption: if a user's intent is unclear or can be interpreted in multiple ways, do not hesitate to politely ask for additional clarification. Make sure to tailor your responses to the user based on their preferences and past experiences which can be found here {customer_profile_str}\"\n",
        "    },\n",
        "    {\"role\": \"user\", \"content\": user_input}\n",
        "],\n",
        "        temperature=0,\n",
        "        tools=[\n",
        "            {\n",
        "                \"type\": \"function\",\n",
        "                \"function\" : {\n",
        "                    \"name\": \"call_google_places_api\",\n",
        "                    \"description\": \"This function calls the Google Places API to find the top places of a specified type near a specific location. It can be used when a user expresses a need (e.g., feeling hungry or tired) or wants to find a certain type of place (e.g., restaurant or hotel).\",\n",
        "                    \"parameters\": {\n",
        "                        \"type\": \"object\",\n",
        "                        \"properties\": {\n",
        "                            \"place_type\": {\n",
        "                                \"type\": \"string\",\n",
        "                                \"description\": \"The type of place to search for.\"\n",
        "                            }\n",
        "                        }\n",
        "                    },\n",
        "                    \"result\": {\n",
        "                        \"type\": \"array\",\n",
        "                        \"items\": {\n",
        "                            \"type\": \"string\"\n",
        "                        }\n",
        "                    }\n",
        "                }\n",
        "            }\n",
        "        ],\n",
        "    )\n",
        "\n",
        "    print(response.choices[0].message.tool_calls)\n",
        "\n",
        "    if response.choices[0].finish_reason=='tool_calls':\n",
        "        function_call = response.choices[0].message.tool_calls[0].function\n",
        "        if function_call.name == \"call_google_places_api\":\n",
        "            place_type = json.loads(function_call.arguments)[\"place_type\"]\n",
        "            places = call_google_places_api(user_id, place_type, food_preference)\n",
        "            if places:  # If the list of places is not empty\n",
        "                return f\"Here are some places you might be interested in: {' '.join(places)}\"\n",
        "            else:\n",
        "                return \"I couldn't find any places of interest nearby.\"\n",
        "\n",
        "    return \"I am sorry, but I could not understand your request.\""
      ]
    },
    {
      "cell_type": "code",
      "execution_count": null,
      "metadata": {
        "colab": {
          "base_uri": "https://localhost:8080/",
          "height": 315
        },
        "id": "QtyI-lZw9qO8",
        "outputId": "db301971-1771-4b19-d378-774df0c29689"
      },
      "outputs": [
        {
          "ename": "NameError",
          "evalue": "name 'client' is not defined",
          "output_type": "error",
          "traceback": [
            "\u001b[0;31m---------------------------------------------------------------------------\u001b[0m",
            "\u001b[0;31mNameError\u001b[0m                                 Traceback (most recent call last)",
            "\u001b[0;32m<ipython-input-41-ce1a369d663f>\u001b[0m in \u001b[0;36m<cell line: 3>\u001b[0;34m()\u001b[0m\n\u001b[1;32m      1\u001b[0m \u001b[0muser_id\u001b[0m \u001b[0;34m=\u001b[0m \u001b[0;34m\"user1234\"\u001b[0m\u001b[0;34m\u001b[0m\u001b[0;34m\u001b[0m\u001b[0m\n\u001b[1;32m      2\u001b[0m \u001b[0muser_input\u001b[0m \u001b[0;34m=\u001b[0m \u001b[0;34m\"I'm hungry\"\u001b[0m\u001b[0;34m\u001b[0m\u001b[0;34m\u001b[0m\u001b[0m\n\u001b[0;32m----> 3\u001b[0;31m \u001b[0moutput\u001b[0m \u001b[0;34m=\u001b[0m \u001b[0mprovide_user_specific_recommendations\u001b[0m\u001b[0;34m(\u001b[0m\u001b[0muser_input\u001b[0m\u001b[0;34m,\u001b[0m \u001b[0muser_id\u001b[0m\u001b[0;34m)\u001b[0m\u001b[0;34m\u001b[0m\u001b[0;34m\u001b[0m\u001b[0m\n\u001b[0m\u001b[1;32m      4\u001b[0m \u001b[0mprint\u001b[0m\u001b[0;34m(\u001b[0m\u001b[0moutput\u001b[0m\u001b[0;34m)\u001b[0m\u001b[0;34m\u001b[0m\u001b[0;34m\u001b[0m\u001b[0m\n",
            "\u001b[0;32m<ipython-input-40-abbc5929e3f6>\u001b[0m in \u001b[0;36mprovide_user_specific_recommendations\u001b[0;34m(user_input, user_id)\u001b[0m\n\u001b[1;32m      9\u001b[0m \u001b[0;34m\u001b[0m\u001b[0m\n\u001b[1;32m     10\u001b[0m \u001b[0;34m\u001b[0m\u001b[0m\n\u001b[0;32m---> 11\u001b[0;31m     response = client.chat.completions.create(\n\u001b[0m\u001b[1;32m     12\u001b[0m         \u001b[0mmodel\u001b[0m\u001b[0;34m=\u001b[0m\u001b[0;34m\"gpt-3.5-turbo\"\u001b[0m\u001b[0;34m,\u001b[0m\u001b[0;34m\u001b[0m\u001b[0;34m\u001b[0m\u001b[0m\n\u001b[1;32m     13\u001b[0m         messages=[\n",
            "\u001b[0;31mNameError\u001b[0m: name 'client' is not defined"
          ]
        }
      ],
      "source": [
        "user_id = \"user1234\"\n",
        "user_input = \"I'm hungry\"\n",
        "output = provide_user_specific_recommendations(user_input, user_id)\n",
        "print(output)"
      ]
    },
    {
      "cell_type": "code",
      "execution_count": null,
      "metadata": {
        "id": "vEb2-u8v-2_-"
      },
      "outputs": [],
      "source": [
        "\n",
        "#openai.api_key = os.getenv(\"OPENAI_API_KEY\", \"YOUR_OPENAI_API_KEY\")\n",
        "\n",
        "latitude = 37.4224764\n",
        "longitude = -122.0842499\n",
        "nearby_url = \"https://maps.googleapis.com/maps/api/place/nearbysearch/json\"\n",
        "distance_matrix_url = \"https://maps.googleapis.com/maps/api/distancematrix/json\"\n"
      ]
    },
    {
      "cell_type": "code",
      "execution_count": null,
      "metadata": {
        "colab": {
          "base_uri": "https://localhost:8080/"
        },
        "id": "no1NENK2_5bU",
        "outputId": "5eb1d90b-96de-4b32-8253-b9e9fda6ab5e"
      },
      "outputs": [
        {
          "name": "stdout",
          "output_type": "stream",
          "text": [
            "Requirement already satisfied: openai in /usr/local/lib/python3.10/dist-packages (1.54.5)\n",
            "Collecting openai\n",
            "  Downloading openai-1.57.0-py3-none-any.whl.metadata (24 kB)\n",
            "Requirement already satisfied: anyio<5,>=3.5.0 in /usr/local/lib/python3.10/dist-packages (from openai) (3.7.1)\n",
            "Requirement already satisfied: distro<2,>=1.7.0 in /usr/local/lib/python3.10/dist-packages (from openai) (1.9.0)\n",
            "Requirement already satisfied: httpx<1,>=0.23.0 in /usr/local/lib/python3.10/dist-packages (from openai) (0.28.0)\n",
            "Requirement already satisfied: jiter<1,>=0.4.0 in /usr/local/lib/python3.10/dist-packages (from openai) (0.8.0)\n",
            "Requirement already satisfied: pydantic<3,>=1.9.0 in /usr/local/lib/python3.10/dist-packages (from openai) (2.10.2)\n",
            "Requirement already satisfied: sniffio in /usr/local/lib/python3.10/dist-packages (from openai) (1.3.1)\n",
            "Requirement already satisfied: tqdm>4 in /usr/local/lib/python3.10/dist-packages (from openai) (4.66.6)\n",
            "Requirement already satisfied: typing-extensions<5,>=4.11 in /usr/local/lib/python3.10/dist-packages (from openai) (4.12.2)\n",
            "Requirement already satisfied: idna>=2.8 in /usr/local/lib/python3.10/dist-packages (from anyio<5,>=3.5.0->openai) (3.10)\n",
            "Requirement already satisfied: exceptiongroup in /usr/local/lib/python3.10/dist-packages (from anyio<5,>=3.5.0->openai) (1.2.2)\n",
            "Requirement already satisfied: certifi in /usr/local/lib/python3.10/dist-packages (from httpx<1,>=0.23.0->openai) (2024.8.30)\n",
            "Requirement already satisfied: httpcore==1.* in /usr/local/lib/python3.10/dist-packages (from httpx<1,>=0.23.0->openai) (1.0.7)\n",
            "Requirement already satisfied: h11<0.15,>=0.13 in /usr/local/lib/python3.10/dist-packages (from httpcore==1.*->httpx<1,>=0.23.0->openai) (0.14.0)\n",
            "Requirement already satisfied: annotated-types>=0.6.0 in /usr/local/lib/python3.10/dist-packages (from pydantic<3,>=1.9.0->openai) (0.7.0)\n",
            "Requirement already satisfied: pydantic-core==2.27.1 in /usr/local/lib/python3.10/dist-packages (from pydantic<3,>=1.9.0->openai) (2.27.1)\n",
            "Downloading openai-1.57.0-py3-none-any.whl (389 kB)\n",
            "\u001b[2K   \u001b[90m━━━━━━━━━━━━━━━━━━━━━━━━━━━━━━━━━━━━━━━━\u001b[0m \u001b[32m389.9/389.9 kB\u001b[0m \u001b[31m6.8 MB/s\u001b[0m eta \u001b[36m0:00:00\u001b[0m\n",
            "\u001b[?25hInstalling collected packages: openai\n",
            "  Attempting uninstall: openai\n",
            "    Found existing installation: openai 1.54.5\n",
            "    Uninstalling openai-1.54.5:\n",
            "      Successfully uninstalled openai-1.54.5\n",
            "Successfully installed openai-1.57.0\n"
          ]
        }
      ],
      "source": [
        "pip install --upgrade openai\n"
      ]
    },
    {
      "cell_type": "code",
      "execution_count": null,
      "metadata": {
        "id": "6NljXf_M_-rV"
      },
      "outputs": [],
      "source": [
        "import openai"
      ]
    },
    {
      "cell_type": "code",
      "execution_count": null,
      "metadata": {
        "colab": {
          "base_uri": "https://localhost:8080/",
          "height": 356
        },
        "id": "tlFSaul1_Mbw",
        "outputId": "d9e98c1d-9e2c-4f30-ef31-e999f453b714"
      },
      "outputs": [
        {
          "ename": "TypeError",
          "evalue": "Client.__init__() got an unexpected keyword argument 'proxies'",
          "output_type": "error",
          "traceback": [
            "\u001b[0;31m---------------------------------------------------------------------------\u001b[0m",
            "\u001b[0;31mTypeError\u001b[0m                                 Traceback (most recent call last)",
            "\u001b[0;32m<ipython-input-61-59338a0d59aa>\u001b[0m in \u001b[0;36m<cell line: 105>\u001b[0;34m()\u001b[0m\n\u001b[1;32m    103\u001b[0m } \n\u001b[1;32m    104\u001b[0m \u001b[0;34m\u001b[0m\u001b[0m\n\u001b[0;32m--> 105\u001b[0;31m response = openai.chat.completions.create(\n\u001b[0m\u001b[1;32m    106\u001b[0m     \u001b[0mmodel\u001b[0m\u001b[0;34m=\u001b[0m\u001b[0;34m\"gpt-3.5-turbo-0613\"\u001b[0m\u001b[0;34m,\u001b[0m\u001b[0;34m\u001b[0m\u001b[0;34m\u001b[0m\u001b[0m\n\u001b[1;32m    107\u001b[0m     messages=[\n",
            "\u001b[0;32m/usr/local/lib/python3.10/dist-packages/openai/_utils/_proxy.py\u001b[0m in \u001b[0;36m__getattr__\u001b[0;34m(self, attr)\u001b[0m\n\u001b[1;32m     18\u001b[0m \u001b[0;34m\u001b[0m\u001b[0m\n\u001b[1;32m     19\u001b[0m     \u001b[0;32mdef\u001b[0m \u001b[0m__getattr__\u001b[0m\u001b[0;34m(\u001b[0m\u001b[0mself\u001b[0m\u001b[0;34m,\u001b[0m \u001b[0mattr\u001b[0m\u001b[0;34m:\u001b[0m \u001b[0mstr\u001b[0m\u001b[0;34m)\u001b[0m \u001b[0;34m->\u001b[0m \u001b[0mobject\u001b[0m\u001b[0;34m:\u001b[0m\u001b[0;34m\u001b[0m\u001b[0;34m\u001b[0m\u001b[0m\n\u001b[0;32m---> 20\u001b[0;31m         \u001b[0mproxied\u001b[0m \u001b[0;34m=\u001b[0m \u001b[0mself\u001b[0m\u001b[0;34m.\u001b[0m\u001b[0m__get_proxied__\u001b[0m\u001b[0;34m(\u001b[0m\u001b[0;34m)\u001b[0m\u001b[0;34m\u001b[0m\u001b[0;34m\u001b[0m\u001b[0m\n\u001b[0m\u001b[1;32m     21\u001b[0m         \u001b[0;32mif\u001b[0m \u001b[0misinstance\u001b[0m\u001b[0;34m(\u001b[0m\u001b[0mproxied\u001b[0m\u001b[0;34m,\u001b[0m \u001b[0mLazyProxy\u001b[0m\u001b[0;34m)\u001b[0m\u001b[0;34m:\u001b[0m\u001b[0;34m\u001b[0m\u001b[0;34m\u001b[0m\u001b[0m\n\u001b[1;32m     22\u001b[0m             \u001b[0;32mreturn\u001b[0m \u001b[0mproxied\u001b[0m  \u001b[0;31m# pyright: ignore\u001b[0m\u001b[0;34m\u001b[0m\u001b[0;34m\u001b[0m\u001b[0m\n",
            "\u001b[0;32m/usr/local/lib/python3.10/dist-packages/openai/_utils/_proxy.py\u001b[0m in \u001b[0;36m__get_proxied__\u001b[0;34m(self)\u001b[0m\n\u001b[1;32m     53\u001b[0m \u001b[0;34m\u001b[0m\u001b[0m\n\u001b[1;32m     54\u001b[0m     \u001b[0;32mdef\u001b[0m \u001b[0m__get_proxied__\u001b[0m\u001b[0;34m(\u001b[0m\u001b[0mself\u001b[0m\u001b[0;34m)\u001b[0m \u001b[0;34m->\u001b[0m \u001b[0mT\u001b[0m\u001b[0;34m:\u001b[0m\u001b[0;34m\u001b[0m\u001b[0;34m\u001b[0m\u001b[0m\n\u001b[0;32m---> 55\u001b[0;31m         \u001b[0;32mreturn\u001b[0m \u001b[0mself\u001b[0m\u001b[0;34m.\u001b[0m\u001b[0m__load__\u001b[0m\u001b[0;34m(\u001b[0m\u001b[0;34m)\u001b[0m\u001b[0;34m\u001b[0m\u001b[0;34m\u001b[0m\u001b[0m\n\u001b[0m\u001b[1;32m     56\u001b[0m \u001b[0;34m\u001b[0m\u001b[0m\n\u001b[1;32m     57\u001b[0m     \u001b[0;32mdef\u001b[0m \u001b[0m__as_proxied__\u001b[0m\u001b[0;34m(\u001b[0m\u001b[0mself\u001b[0m\u001b[0;34m)\u001b[0m \u001b[0;34m->\u001b[0m \u001b[0mT\u001b[0m\u001b[0;34m:\u001b[0m\u001b[0;34m\u001b[0m\u001b[0;34m\u001b[0m\u001b[0m\n",
            "\u001b[0;32m/usr/local/lib/python3.10/dist-packages/openai/_module_client.py\u001b[0m in \u001b[0;36m__load__\u001b[0;34m(self)\u001b[0m\n\u001b[1;32m     10\u001b[0m     \u001b[0;34m@\u001b[0m\u001b[0moverride\u001b[0m\u001b[0;34m\u001b[0m\u001b[0;34m\u001b[0m\u001b[0m\n\u001b[1;32m     11\u001b[0m     \u001b[0;32mdef\u001b[0m \u001b[0m__load__\u001b[0m\u001b[0;34m(\u001b[0m\u001b[0mself\u001b[0m\u001b[0;34m)\u001b[0m \u001b[0;34m->\u001b[0m \u001b[0mresources\u001b[0m\u001b[0;34m.\u001b[0m\u001b[0mChat\u001b[0m\u001b[0;34m:\u001b[0m\u001b[0;34m\u001b[0m\u001b[0;34m\u001b[0m\u001b[0m\n\u001b[0;32m---> 12\u001b[0;31m         \u001b[0;32mreturn\u001b[0m \u001b[0m_load_client\u001b[0m\u001b[0;34m(\u001b[0m\u001b[0;34m)\u001b[0m\u001b[0;34m.\u001b[0m\u001b[0mchat\u001b[0m\u001b[0;34m\u001b[0m\u001b[0;34m\u001b[0m\u001b[0m\n\u001b[0m\u001b[1;32m     13\u001b[0m \u001b[0;34m\u001b[0m\u001b[0m\n\u001b[1;32m     14\u001b[0m \u001b[0;34m\u001b[0m\u001b[0m\n",
            "\u001b[0;32m/usr/local/lib/python3.10/dist-packages/openai/__init__.py\u001b[0m in \u001b[0;36m_load_client\u001b[0;34m()\u001b[0m\n\u001b[1;32m    325\u001b[0m             )\n\u001b[1;32m    326\u001b[0m             \u001b[0;32mreturn\u001b[0m \u001b[0m_client\u001b[0m\u001b[0;34m\u001b[0m\u001b[0;34m\u001b[0m\u001b[0m\n\u001b[0;32m--> 327\u001b[0;31m \u001b[0;34m\u001b[0m\u001b[0m\n\u001b[0m\u001b[1;32m    328\u001b[0m         _client = _ModuleClient(\n\u001b[1;32m    329\u001b[0m             \u001b[0mapi_key\u001b[0m\u001b[0;34m=\u001b[0m\u001b[0mapi_key\u001b[0m\u001b[0;34m,\u001b[0m\u001b[0;34m\u001b[0m\u001b[0;34m\u001b[0m\u001b[0m\n",
            "\u001b[0;32m/usr/local/lib/python3.10/dist-packages/openai/_client.py\u001b[0m in \u001b[0;36m__init__\u001b[0;34m(self, api_key, organization, project, base_url, timeout, max_retries, default_headers, default_query, http_client, _strict_response_validation)\u001b[0m\n\u001b[1;32m    121\u001b[0m             \u001b[0mbase_url\u001b[0m \u001b[0;34m=\u001b[0m \u001b[0;34mf\"https://api.openai.com/v1\"\u001b[0m\u001b[0;34m\u001b[0m\u001b[0;34m\u001b[0m\u001b[0m\n\u001b[1;32m    122\u001b[0m \u001b[0;34m\u001b[0m\u001b[0m\n\u001b[0;32m--> 123\u001b[0;31m         super().__init__(\n\u001b[0m\u001b[1;32m    124\u001b[0m             \u001b[0mversion\u001b[0m\u001b[0;34m=\u001b[0m\u001b[0m__version__\u001b[0m\u001b[0;34m,\u001b[0m\u001b[0;34m\u001b[0m\u001b[0;34m\u001b[0m\u001b[0m\n\u001b[1;32m    125\u001b[0m             \u001b[0mbase_url\u001b[0m\u001b[0;34m=\u001b[0m\u001b[0mbase_url\u001b[0m\u001b[0;34m,\u001b[0m\u001b[0;34m\u001b[0m\u001b[0;34m\u001b[0m\u001b[0m\n",
            "\u001b[0;32m/usr/local/lib/python3.10/dist-packages/openai/_base_client.py\u001b[0m in \u001b[0;36m__init__\u001b[0;34m(self, version, base_url, max_retries, timeout, transport, proxies, limits, http_client, custom_headers, custom_query, _strict_response_validation)\u001b[0m\n\u001b[1;32m    855\u001b[0m             \u001b[0mmax_retries\u001b[0m\u001b[0;34m=\u001b[0m\u001b[0mmax_retries\u001b[0m\u001b[0;34m,\u001b[0m\u001b[0;34m\u001b[0m\u001b[0;34m\u001b[0m\u001b[0m\n\u001b[1;32m    856\u001b[0m             \u001b[0mcustom_query\u001b[0m\u001b[0;34m=\u001b[0m\u001b[0mcustom_query\u001b[0m\u001b[0;34m,\u001b[0m\u001b[0;34m\u001b[0m\u001b[0;34m\u001b[0m\u001b[0m\n\u001b[0;32m--> 857\u001b[0;31m             \u001b[0mcustom_headers\u001b[0m\u001b[0;34m=\u001b[0m\u001b[0mcustom_headers\u001b[0m\u001b[0;34m,\u001b[0m\u001b[0;34m\u001b[0m\u001b[0;34m\u001b[0m\u001b[0m\n\u001b[0m\u001b[1;32m    858\u001b[0m             \u001b[0m_strict_response_validation\u001b[0m\u001b[0;34m=\u001b[0m\u001b[0m_strict_response_validation\u001b[0m\u001b[0;34m,\u001b[0m\u001b[0;34m\u001b[0m\u001b[0;34m\u001b[0m\u001b[0m\n\u001b[1;32m    859\u001b[0m         )\n",
            "\u001b[0;32m/usr/local/lib/python3.10/dist-packages/openai/_base_client.py\u001b[0m in \u001b[0;36m__init__\u001b[0;34m(self, **kwargs)\u001b[0m\n\u001b[1;32m    753\u001b[0m         \u001b[0mkwargs\u001b[0m\u001b[0;34m.\u001b[0m\u001b[0msetdefault\u001b[0m\u001b[0;34m(\u001b[0m\u001b[0;34m\"limits\"\u001b[0m\u001b[0;34m,\u001b[0m \u001b[0mDEFAULT_CONNECTION_LIMITS\u001b[0m\u001b[0;34m)\u001b[0m\u001b[0;34m\u001b[0m\u001b[0;34m\u001b[0m\u001b[0m\n\u001b[1;32m    754\u001b[0m         \u001b[0mkwargs\u001b[0m\u001b[0;34m.\u001b[0m\u001b[0msetdefault\u001b[0m\u001b[0;34m(\u001b[0m\u001b[0;34m\"follow_redirects\"\u001b[0m\u001b[0;34m,\u001b[0m \u001b[0;32mTrue\u001b[0m\u001b[0;34m)\u001b[0m\u001b[0;34m\u001b[0m\u001b[0;34m\u001b[0m\u001b[0m\n\u001b[0;32m--> 755\u001b[0;31m         \u001b[0msuper\u001b[0m\u001b[0;34m(\u001b[0m\u001b[0;34m)\u001b[0m\u001b[0;34m.\u001b[0m\u001b[0m__init__\u001b[0m\u001b[0;34m(\u001b[0m\u001b[0;34m**\u001b[0m\u001b[0mkwargs\u001b[0m\u001b[0;34m)\u001b[0m\u001b[0;34m\u001b[0m\u001b[0;34m\u001b[0m\u001b[0m\n\u001b[0m\u001b[1;32m    756\u001b[0m \u001b[0;34m\u001b[0m\u001b[0m\n\u001b[1;32m    757\u001b[0m \u001b[0;34m\u001b[0m\u001b[0m\n",
            "\u001b[0;31mTypeError\u001b[0m: Client.__init__() got an unexpected keyword argument 'proxies'"
          ]
        }
      ],
      "source": [
        "def search_places_by_rating_with_min_reviews(place_type, radius=1000, min_reviews=200):\n",
        "    params = {\n",
        "        \"key\": API_KEY,\n",
        "        \"location\": f\"{latitude},{longitude}\",\n",
        "        \"radius\": radius,\n",
        "        \"type\": place_type\n",
        "    }\n",
        "    response = requests.get(nearby_url, params=params)\n",
        "    data = response.json()\n",
        "\n",
        "    if data.get(\"status\") == \"OK\":\n",
        "        places = data.get(\"results\", [])\n",
        "        # Filter places: must have rating and user_ratings_total >= min_reviews\n",
        "        places = [p for p in places if 'rating' in p and p.get('user_ratings_total', 0) >= min_reviews]\n",
        "\n",
        "        # Sort by rating descending\n",
        "        places.sort(key=lambda x: x['rating'], reverse=True)\n",
        "        top_5 = places[:5]\n",
        "\n",
        "        return top_5\n",
        "    else:\n",
        "        print(\"Error:\", data.get(\"status\"), data.get(\"error_message\"))\n",
        "        return []\n",
        "\n",
        "def add_walking_distance_to_places(places):\n",
        "    if not places:\n",
        "        return\n",
        "\n",
        "    destinations = []\n",
        "    for p in places:\n",
        "        loc = p[\"geometry\"][\"location\"]\n",
        "        dest_str = f\"{loc['lat']},{loc['lng']}\"\n",
        "        destinations.append(dest_str)\n",
        "\n",
        "    destination_param = \"|\".join(destinations)\n",
        "\n",
        "    params = {\n",
        "        \"key\": API_KEY,\n",
        "        \"origins\": f\"{latitude},{longitude}\",\n",
        "        \"destinations\": destination_param,\n",
        "        \"mode\": \"walking\"\n",
        "    }\n",
        "\n",
        "    response = requests.get(distance_matrix_url, params=params)\n",
        "    data = response.json()\n",
        "\n",
        "    if data.get(\"status\") == \"OK\":\n",
        "        rows = data.get(\"rows\", [])\n",
        "        if rows and len(rows) > 0:\n",
        "            elements = rows[0].get(\"elements\", [])\n",
        "            for i, element in enumerate(elements):\n",
        "                if element.get(\"status\") == \"OK\":\n",
        "                    distance_text = element[\"distance\"][\"text\"]\n",
        "                    duration_text = element[\"duration\"][\"text\"]\n",
        "                    places[i][\"walking_distance\"] = distance_text\n",
        "                    places[i][\"walking_duration\"] = duration_text\n",
        "                else:\n",
        "                    places[i][\"walking_distance\"] = \"N/A\"\n",
        "                    places[i][\"walking_duration\"] = \"N/A\"\n",
        "    else:\n",
        "        print(\"Distance Matrix Error:\", data.get(\"status\"), data.get(\"error_message\"))\n",
        "        for p in places:\n",
        "            p[\"walking_distance\"] = \"N/A\"\n",
        "            p[\"walking_duration\"] = \"N/A\"\n",
        "\n",
        "\n",
        "# Define the functions schema for OpenAI function calling\n",
        "\n",
        "functions = [\n",
        "    {\n",
        "        \"name\": \"search_places_by_rating_with_min_reviews\",\n",
        "        \"description\": \"Get top rated places with a minimum number of reviews.\",\n",
        "        \"parameters\": {\n",
        "            \"type\": \"object\",\n",
        "            \"properties\": {\n",
        "                \"place_type\": {\n",
        "                    \"type\": \"string\",\n",
        "                    \"description\": \"Type of place to search, e.g. 'restaurant', 'cafe', 'hotel'.\"\n",
        "                },\n",
        "                \"radius\": {\n",
        "                    \"type\": \"number\",\n",
        "                    \"description\": \"Search radius in meters\"\n",
        "                },\n",
        "                \"min_reviews\": {\n",
        "                    \"type\": \"number\",\n",
        "                    \"description\": \"Minimum number of user reviews\"\n",
        "                }\n",
        "            },\n",
        "            \"required\": [\"place_type\"]\n",
        "        }\n",
        "    }\n",
        "]\n",
        "\n",
        "user_input = \"I'm hungry. Could you recommend a good place to eat?\"\n",
        "\n",
        "system_message = {\n",
        "    \"role\": \"system\",\n",
        "    \"content\": (\n",
        "        \"You are a helpful assistant. If the user expresses hunger or asks for restaurant recommendations, \"\n",
        "        \"call the 'search_places_by_rating_with_min_reviews' function with place_type='restaurant', radius=1000, \"\n",
        "        \"and min_reviews=200. After getting the results, add walking distance and provide a friendly summary.\"\n",
        "    )\n",
        "}\n",
        "\n",
        "response = openai.chat.completions.create(\n",
        "    model=\"gpt-3.5-turbo-0613\",\n",
        "    messages=[\n",
        "        system_message,\n",
        "        {\"role\": \"user\", \"content\": user_input}\n",
        "    ],\n",
        "    functions=functions,\n",
        "    function_call=\"auto\"\n",
        ")\n",
        "\n",
        "message = response.choices[0].message\n",
        "\n",
        "if \"function_call\" in message:\n",
        "    function_name = message[\"function_call\"][\"name\"]\n",
        "    function_args = json.loads(message[\"function_call\"][\"arguments\"])\n",
        "\n",
        "    if function_name == \"search_places_by_rating_with_min_reviews\":\n",
        "        places = search_places_by_rating_with_min_reviews(**function_args)\n",
        "        add_walking_distance_to_places(places)\n",
        "\n",
        "        if places:\n",
        "            recommendations = []\n",
        "            for place in places:\n",
        "                name = place.get(\"name\", \"No Name\")\n",
        "                rating = place.get(\"rating\", \"No Rating\")\n",
        "                reviews = place.get(\"user_ratings_total\", 0)\n",
        "                address = place.get(\"vicinity\", \"No Address\")\n",
        "                walk_dist = place.get(\"walking_distance\", \"N/A\")\n",
        "                walk_dur = place.get(\"walking_duration\", \"N/A\")\n",
        "\n",
        "                recommendations.append(\n",
        "                    f\"{name} (Rating: {rating}, {reviews} reviews) at {address}, about {walk_dist} away ({walk_dur} walk).\"\n",
        "                )\n",
        "\n",
        "            final_response = \"Here are some top-rated restaurants near you:\\n\" + \"\\n\".join(recommendations)\n",
        "        else:\n",
        "            final_response = \"I couldn't find any suitable restaurants nearby.\"\n",
        "        print(final_response)\n",
        "else:\n",
        "    # The LLM did not call the function; just print the response\n",
        "    print(message.get(\"content\", \"No function call made.\"))"
      ]
    },
    {
      "cell_type": "code",
      "execution_count": null,
      "metadata": {
        "colab": {
          "base_uri": "https://localhost:8080/"
        },
        "id": "rNGk5iW2AH6o",
        "outputId": "42921f22-b061-4e0f-e8c3-5a34344b264e"
      },
      "outputs": [
        {
          "name": "stdout",
          "output_type": "stream",
          "text": [
            "1.54.5\n"
          ]
        }
      ],
      "source": [
        "import openai\n",
        "print(openai.__version__)"
      ]
    }
  ],
  "metadata": {
    "colab": {
      "provenance": [],
      "toc_visible": true,
      "include_colab_link": true
    },
    "kernelspec": {
      "display_name": "Python 3",
      "name": "python3"
    },
    "language_info": {
      "codemirror_mode": {
        "name": "ipython",
        "version": 3
      },
      "file_extension": ".py",
      "mimetype": "text/x-python",
      "name": "python",
      "nbconvert_exporter": "python",
      "pygments_lexer": "ipython3",
      "version": "3.13.1"
    }
  },
  "nbformat": 4,
  "nbformat_minor": 0
}
