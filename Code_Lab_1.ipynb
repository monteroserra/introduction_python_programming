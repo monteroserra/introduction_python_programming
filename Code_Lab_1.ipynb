{
  "nbformat": 4,
  "nbformat_minor": 0,
  "metadata": {
    "colab": {
      "provenance": [],
      "authorship_tag": "ABX9TyMC7tdI2a4Q4Gu/9Uq2DfAA",
      "include_colab_link": true
    },
    "kernelspec": {
      "name": "python3",
      "display_name": "Python 3"
    },
    "language_info": {
      "name": "python"
    }
  },
  "cells": [
    {
      "cell_type": "markdown",
      "metadata": {
        "id": "view-in-github",
        "colab_type": "text"
      },
      "source": [
        "<a href=\"https://colab.research.google.com/github/monteroserra/introduction_python_programming/blob/main/Code_Lab_1.ipynb\" target=\"_parent\"><img src=\"https://colab.research.google.com/assets/colab-badge.svg\" alt=\"Open In Colab\"/></a>"
      ]
    },
    {
      "cell_type": "markdown",
      "source": [
        "# 🐍 Lab 1 – Getting Started with Python\n",
        "\n",
        "Welcome to your first hands-on coding lab! In this session, we’ll explore the basics of Python programming.\n",
        "\n",
        "By the end of this lab, you’ll be able to:\n",
        "- Write and run Python code\n",
        "- Use variables and basic data types\n",
        "- Perform simple arithmetic and print outputs\n",
        "- Complete small coding exercises\n",
        "\n",
        "---\n"
      ],
      "metadata": {
        "id": "uT8O2QMyeddd"
      }
    },
    {
      "cell_type": "markdown",
      "source": [
        "## 🖨️ 1. Printing and Comments\n",
        "\n",
        "Let's start by printing text to the screen using the `print()` function.\n",
        "\n",
        "You can also add comments using the `#` symbol to explain your code.\n"
      ],
      "metadata": {
        "id": "6mCXMHU9fEtU"
      }
    },
    {
      "cell_type": "code",
      "source": [
        "# This prints a friendly greeting\n",
        "print(\"Welcome to Python programming!\") # This will print a message\n",
        "\n"
      ],
      "metadata": {
        "colab": {
          "base_uri": "https://localhost:8080/"
        },
        "id": "1soirKBUfD3E",
        "outputId": "8bf46503-ad3c-4300-f6c8-be8b3b4e66de"
      },
      "execution_count": 1,
      "outputs": [
        {
          "output_type": "stream",
          "name": "stdout",
          "text": [
            "Welcome to Python programming!\n"
          ]
        }
      ]
    },
    {
      "cell_type": "code",
      "source": [
        "# Printing multiple items separated by spaces\n",
        "print(\"Name:\", \"Alice\")\n"
      ],
      "metadata": {
        "id": "rUblXCE5d4Ri"
      },
      "execution_count": null,
      "outputs": []
    },
    {
      "cell_type": "code",
      "source": [
        "# Printing numbers\n",
        "print(2025)\n"
      ],
      "metadata": {
        "id": "yt8AdJZ9d4ei"
      },
      "execution_count": null,
      "outputs": []
    },
    {
      "cell_type": "code",
      "source": [
        "# You can also do basic math inside print\n",
        "print(\"2 + 3 =\", 2 + 3)"
      ],
      "metadata": {
        "id": "sJg8ZS_Md8rH"
      },
      "execution_count": null,
      "outputs": []
    },
    {
      "cell_type": "code",
      "source": [
        "# Print on multiple lines using \\n\n",
        "print(\"Line 1\\nLine 2\")"
      ],
      "metadata": {
        "id": "iyi3zn_Ld8td"
      },
      "execution_count": null,
      "outputs": []
    },
    {
      "cell_type": "code",
      "source": [
        "# Print using single or double quotes\n",
        "print('This is valid')\n",
        "print(\"This is also valid\")"
      ],
      "metadata": {
        "id": "1NiRL-i4d8wC"
      },
      "execution_count": null,
      "outputs": []
    },
    {
      "cell_type": "code",
      "source": [
        "# Print with emojis or special characters\n",
        "print(\"I ❤️ Python!\")"
      ],
      "metadata": {
        "id": "1PPDB6RZd8yr"
      },
      "execution_count": null,
      "outputs": []
    },
    {
      "cell_type": "code",
      "source": [
        "### ✍️ Exercise 1.1\n",
        "\n",
        "Print your name and your favorite programming-related quote.\n"
      ],
      "metadata": {
        "id": "ZkC8Js0DfJMT"
      },
      "execution_count": null,
      "outputs": []
    },
    {
      "cell_type": "markdown",
      "source": [
        "## 📦 2. Variables and Data Types\n",
        "\n",
        "Variables are used to store information in Python.\n",
        "\n",
        "Python has several built-in data types:\n",
        "\n",
        "- `int` – integers  \n",
        "- `float` – decimal numbers  \n",
        "- `str` – strings (text)  \n",
        "- `bool` – booleans (`True` or `False`)\n",
        "\n",
        "You don’t need to declare types — Python is dynamically typed."
      ],
      "metadata": {
        "id": "-Mq3RAgxfOy7"
      }
    },
    {
      "cell_type": "code",
      "source": [
        "# Integer (int)\n",
        "age = 25\n",
        "print(\"Age:\", age)\n"
      ],
      "metadata": {
        "colab": {
          "base_uri": "https://localhost:8080/"
        },
        "id": "n6dw49EcePBa",
        "outputId": "0294eac5-f601-4302-cd2f-5e4521e7a931"
      },
      "execution_count": 2,
      "outputs": [
        {
          "output_type": "stream",
          "name": "stdout",
          "text": [
            "Age: 25\n"
          ]
        }
      ]
    },
    {
      "cell_type": "code",
      "source": [
        "# Float (decimal number)\n",
        "height = 1.75\n",
        "print(\"Height in meters:\", height)"
      ],
      "metadata": {
        "colab": {
          "base_uri": "https://localhost:8080/"
        },
        "id": "6fR4GdW8ePiE",
        "outputId": "36347f55-e14f-4862-b111-b5594acd3de8"
      },
      "execution_count": 3,
      "outputs": [
        {
          "output_type": "stream",
          "name": "stdout",
          "text": [
            "Height in meters: 1.75\n"
          ]
        }
      ]
    },
    {
      "cell_type": "code",
      "source": [
        "# String (text)\n",
        "name = \"Lina\"\n",
        "print(\"Name:\", name)"
      ],
      "metadata": {
        "colab": {
          "base_uri": "https://localhost:8080/"
        },
        "id": "9xtjSRC8ePkf",
        "outputId": "2d827cef-0813-4042-8920-65352129df7d"
      },
      "execution_count": 4,
      "outputs": [
        {
          "output_type": "stream",
          "name": "stdout",
          "text": [
            "Name: Lina\n"
          ]
        }
      ]
    },
    {
      "cell_type": "code",
      "source": [
        "# Boolean (True or False)\n",
        "is_student = True\n",
        "print(\"Is a student?\", is_student)\n"
      ],
      "metadata": {
        "colab": {
          "base_uri": "https://localhost:8080/"
        },
        "id": "icu8O4GyePnN",
        "outputId": "8684b29a-abea-4ceb-d9dc-10b1eee44238"
      },
      "execution_count": 5,
      "outputs": [
        {
          "output_type": "stream",
          "name": "stdout",
          "text": [
            "Is a student? True\n"
          ]
        }
      ]
    },
    {
      "cell_type": "code",
      "source": [
        "# You can check the type of a variable with type()\n",
        "print(\"Type of height:\", type(height))"
      ],
      "metadata": {
        "colab": {
          "base_uri": "https://localhost:8080/"
        },
        "id": "zCvWWF9CePp8",
        "outputId": "2832d796-6ba9-4948-bf12-7f0680d2c675"
      },
      "execution_count": 6,
      "outputs": [
        {
          "output_type": "stream",
          "name": "stdout",
          "text": [
            "Type of height: <class 'float'>\n"
          ]
        }
      ]
    },
    {
      "cell_type": "code",
      "source": [
        "name = \"Alice\"\n",
        "age = 21\n",
        "height = 1.68  # meters\n",
        "is_student = True\n",
        "\n",
        "print(name, age, height, is_student)\n"
      ],
      "metadata": {
        "colab": {
          "base_uri": "https://localhost:8080/"
        },
        "id": "wXkyggmSfQ3p",
        "outputId": "79093d69-891f-44a2-982a-d835cddee04b"
      },
      "execution_count": 7,
      "outputs": [
        {
          "output_type": "stream",
          "name": "stdout",
          "text": [
            "Alice 21 1.68 True\n"
          ]
        }
      ]
    },
    {
      "cell_type": "markdown",
      "source": [
        "### ✍️ Exercise 2.1\n",
        "\n",
        "Create variables for:\n",
        "- Your favorite number\n",
        "- A boolean indicating if you like Python\n",
        "- A float with the value of pi\n",
        "\n",
        "Then print all of them.\n"
      ],
      "metadata": {
        "id": "BK5LQy-RfXBT"
      }
    },
    {
      "cell_type": "markdown",
      "source": [
        "## ➕ 3. Arithmetic Operators\n",
        "\n",
        "Python supports standard arithmetic operations: `+`, `-`, `*`, `/`, `**`, `//`, `%`\n",
        "\n",
        "Python supports standard arithmetic operations:\n",
        "\n",
        "| Operator | Description     | Example      |\n",
        "|----------|-----------------|--------------|\n",
        "| `+`      | Addition         | `2 + 3`      |\n",
        "| `-`      | Subtraction      | `5 - 2`      |\n",
        "| `*`      | Multiplication   | `4 * 3`      |\n",
        "| `/`      | Division         | `10 / 2`     |\n",
        "| `//`     | Floor Division   | `7 // 2 → 3` |\n",
        "| `%`      | Modulo (remainder) | `7 % 3 → 1` |\n",
        "| `**`     | Exponentiation   | `2 ** 3 → 8` |\n",
        "\n",
        "You can combine operations using parentheses to control the order of execution.\n"
      ],
      "metadata": {
        "id": "s7rXdoPBfbDC"
      }
    },
    {
      "cell_type": "code",
      "source": [
        "# Addition\n",
        "print(\"2 + 3 =\", 2 + 3)\n"
      ],
      "metadata": {
        "id": "N06O5j-Ce4Cn"
      },
      "execution_count": null,
      "outputs": []
    },
    {
      "cell_type": "code",
      "source": [
        "# Subtraction\n",
        "print(\"10 - 4 =\", 10 - 4)"
      ],
      "metadata": {
        "id": "MFDdajJre4E6"
      },
      "execution_count": null,
      "outputs": []
    },
    {
      "cell_type": "code",
      "source": [
        "# Multiplication\n",
        "print(\"6 * 7 =\", 6 * 7)"
      ],
      "metadata": {
        "id": "oKGbBjhbe4Hd"
      },
      "execution_count": null,
      "outputs": []
    },
    {
      "cell_type": "code",
      "source": [
        "# Division (always returns float)\n",
        "print(\"8 / 2 =\", 8 / 2)"
      ],
      "metadata": {
        "id": "nuW2yAVae9dR"
      },
      "execution_count": null,
      "outputs": []
    },
    {
      "cell_type": "code",
      "source": [
        "# Floor Division (drops decimal)\n",
        "print(\"9 // 2 =\", 9 // 2)"
      ],
      "metadata": {
        "id": "ZOD-G3oAfAUF"
      },
      "execution_count": null,
      "outputs": []
    },
    {
      "cell_type": "code",
      "source": [
        "# Modulo (gives remainder)\n",
        "print(\"10 % 3 =\", 10 % 3)"
      ],
      "metadata": {
        "id": "KEmumWgzfEHf"
      },
      "execution_count": null,
      "outputs": []
    },
    {
      "cell_type": "code",
      "source": [
        "# Exponentiation\n",
        "print(\"3 ** 4 =\", 3 ** 4)\n"
      ],
      "metadata": {
        "id": "puggeqzSfF6D"
      },
      "execution_count": null,
      "outputs": []
    },
    {
      "cell_type": "code",
      "source": [
        "# Combined operation\n",
        "print(\"2 + 3 * 4 =\", 2 + 3 * 4)\n",
        "print(\"(2 + 3) * 4 =\", (2 + 3) * 4)"
      ],
      "metadata": {
        "colab": {
          "base_uri": "https://localhost:8080/"
        },
        "id": "E-STvHK0fHxz",
        "outputId": "4876698b-0356-4587-fd03-4bdf567727fe"
      },
      "execution_count": 8,
      "outputs": [
        {
          "output_type": "stream",
          "name": "stdout",
          "text": [
            "2 + 3 * 4 = 14\n",
            "(2 + 3) * 4 = 20\n"
          ]
        }
      ]
    },
    {
      "cell_type": "markdown",
      "source": [
        "### ✍️ Exercise 3.1\n",
        "\n",
        "Calculate and print:\n",
        "- The area of a circle with radius 5 (π x r2)\n",
        "- The result of 7 squared minus 4\n",
        "- The remainder of 23 divided by 5\n"
      ],
      "metadata": {
        "id": "YJPY9QIFfezF"
      }
    },
    {
      "cell_type": "markdown",
      "source": [
        "## 📏 4. Input and Type Conversion\n",
        "\n",
        "Use `input()` to get user input.  \n",
        "By default, input values are stored as **strings (`str`)**.\n",
        "\n",
        "You can convert input to other types using:\n",
        "- `int()` → for whole numbers\n",
        "- `float()` → for decimal numbers\n",
        "- `str()` → for text (usually not needed, as input returns strings by default)\n",
        "\n",
        "📝 You can also use `type()` to check the data type of any value.\n",
        "\n"
      ],
      "metadata": {
        "id": "ennHaBOqfhRg"
      }
    },
    {
      "cell_type": "code",
      "source": [
        "# Asking for a name (no need to convert)\n",
        "name = input(\"What is your name? \")\n",
        "print(\"Hello,\", name)"
      ],
      "metadata": {
        "colab": {
          "base_uri": "https://localhost:8080/"
        },
        "id": "iNa7n237gKN9",
        "outputId": "9072184a-6a83-461a-9794-1c0c82940944"
      },
      "execution_count": 9,
      "outputs": [
        {
          "output_type": "stream",
          "name": "stdout",
          "text": [
            "What is your name? nacho\n",
            "Hello, nacho\n"
          ]
        }
      ]
    },
    {
      "cell_type": "code",
      "source": [
        "# Asking for age and converting to int\n",
        "age = int(input(\"How old are you? \"))\n",
        "print(\"Next year, you’ll be\", age + 1)"
      ],
      "metadata": {
        "colab": {
          "base_uri": "https://localhost:8080/"
        },
        "id": "RzbD5skxgKQd",
        "outputId": "74c63ab1-fda9-43db-8a87-49f1286b3182"
      },
      "execution_count": 10,
      "outputs": [
        {
          "output_type": "stream",
          "name": "stdout",
          "text": [
            "How old are you? 37\n",
            "Next year, you’ll be 38\n"
          ]
        }
      ]
    },
    {
      "cell_type": "code",
      "source": [
        "# Asking for height and converting to float\n",
        "height = float(input(\"What is your height in meters? \"))\n",
        "print(\"Height + 0.1 =\", height + 0.1)"
      ],
      "metadata": {
        "colab": {
          "base_uri": "https://localhost:8080/"
        },
        "id": "hK_JJaC6gKTD",
        "outputId": "ea8512a0-c029-4618-dcb2-da657a8481c8"
      },
      "execution_count": 11,
      "outputs": [
        {
          "output_type": "stream",
          "name": "stdout",
          "text": [
            "What is your height in meters? 1.78\n",
            "Height + 0.1 = 1.8800000000000001\n"
          ]
        }
      ]
    },
    {
      "cell_type": "code",
      "source": [
        "# Checking the type of each input\n",
        "print(\"Data type of name:\", type(name))\n",
        "print(\"Data type of age:\", type(age))\n",
        "print(\"Data type of height:\", type(height))"
      ],
      "metadata": {
        "colab": {
          "base_uri": "https://localhost:8080/"
        },
        "id": "pboLScWOgOu3",
        "outputId": "c76a0655-d6dd-4214-adb8-ad5749cb966a"
      },
      "execution_count": 13,
      "outputs": [
        {
          "output_type": "stream",
          "name": "stdout",
          "text": [
            "Data type of name: <class 'str'>\n",
            "Data type of age: <class 'int'>\n",
            "Data type of height: <class 'float'>\n"
          ]
        }
      ]
    },
    {
      "cell_type": "code",
      "source": [
        "print(f\"Hello, {name}. You will be {age + 1} next year.\")\n"
      ],
      "metadata": {
        "colab": {
          "base_uri": "https://localhost:8080/"
        },
        "id": "i4Uciuo9fSe7",
        "outputId": "c68dec23-759b-4914-a63b-e6a4ddb58fa6"
      },
      "execution_count": 14,
      "outputs": [
        {
          "output_type": "stream",
          "name": "stdout",
          "text": [
            "Hello, nacho. You will be 38 next year.\n"
          ]
        }
      ]
    },
    {
      "cell_type": "markdown",
      "source": [
        "## Exercise 4.1\n",
        "\n",
        "### ✍️ Try it yourself!\n",
        "\n",
        "1. Ask the user for:\n",
        "   - Their name\n",
        "   - The number of hours they study per day (float)\n",
        "   - The number of days per week they study (int)\n",
        "\n",
        "2. Calculate and print:\n",
        "   - Total hours studied per week\n",
        "   - A message like: `\"Maria studies 3 hours/day, 5 days/week, totaling 15 hours per week.\"`\n",
        "\n",
        "🔁 Try changing input types and checking them with `type()`.\n"
      ],
      "metadata": {
        "id": "_py5lwkEfrMS"
      }
    },
    {
      "cell_type": "markdown",
      "source": [
        "## 🔎 5. Comparison Operators\n",
        "\n",
        "Comparison operators are used to **compare values**.\n",
        "\n",
        "They always return a **boolean** result: `True` or `False`.\n",
        "\n",
        "| Operator | Meaning              | Example         |\n",
        "|----------|----------------------|-----------------|\n",
        "| `==`     | Equal to             | `5 == 5` → `True` |\n",
        "| `!=`     | Not equal to         | `3 != 4` → `True` |\n",
        "| `>`      | Greater than         | `7 > 2` → `True` |\n",
        "| `<`      | Less than            | `4 < 1` → `False` |\n",
        "| `>=`     | Greater than or equal| `6 >= 6` → `True` |\n",
        "| `<=`     | Less than or equal   | `2 <= 3` → `True` |\n",
        "\n",
        "These are often used in conditions (`if` statements) and logical expressions.\n"
      ],
      "metadata": {
        "id": "daCEdzPGhhcW"
      }
    },
    {
      "cell_type": "code",
      "source": [
        "# Comparing numbers\n",
        "print(\"5 == 5 →\", 5 == 5)      # True\n",
        "print(\"10 != 7 →\", 10 != 7)    # True\n",
        "print(\"8 > 12 →\", 8 > 12)      # False\n",
        "print(\"6 <= 6 →\", 6 <= 6)      # True"
      ],
      "metadata": {
        "colab": {
          "base_uri": "https://localhost:8080/"
        },
        "id": "80psLzmRhDeO",
        "outputId": "848ffdbc-c6bb-4ab5-8595-25a357f72f37"
      },
      "execution_count": 15,
      "outputs": [
        {
          "output_type": "stream",
          "name": "stdout",
          "text": [
            "5 == 5 → True\n",
            "10 != 7 → True\n",
            "8 > 12 → False\n",
            "6 <= 6 → True\n"
          ]
        }
      ]
    },
    {
      "cell_type": "code",
      "source": [
        "# Comparing strings\n",
        "print('\"apple\" == \"apple\" →', \"apple\" == \"apple\")  # True\n",
        "print('\"cat\" < \"dog\" →', \"cat\" < \"dog\")            # True (alphabetical)\n"
      ],
      "metadata": {
        "colab": {
          "base_uri": "https://localhost:8080/"
        },
        "id": "Oxa8njSvhDl7",
        "outputId": "041c2ee6-f1f1-47f2-e671-1d59e208240e"
      },
      "execution_count": 16,
      "outputs": [
        {
          "output_type": "stream",
          "name": "stdout",
          "text": [
            "\"apple\" == \"apple\" → True\n",
            "\"cat\" < \"dog\" → True\n"
          ]
        }
      ]
    },
    {
      "cell_type": "code",
      "source": [
        "# Mixing variables\n",
        "age = 18\n",
        "print(\"Is age greater than 16?\", age > 16)"
      ],
      "metadata": {
        "colab": {
          "base_uri": "https://localhost:8080/"
        },
        "id": "_LeTrYaKhk2n",
        "outputId": "44f37b15-cf40-426b-ff02-4b71d6c7d5ba"
      },
      "execution_count": 17,
      "outputs": [
        {
          "output_type": "stream",
          "name": "stdout",
          "text": [
            "Is age greater than 16? True\n"
          ]
        }
      ]
    },
    {
      "cell_type": "markdown",
      "source": [
        "## Exercise 5.1\n",
        "### ✍️ Try it yourself!\n",
        "\n",
        "1. Create two variables: `x` and `y` with any numbers you like.\n",
        "2. Write and print the result of at least **3 comparisons**:\n",
        "   - Are they equal?\n",
        "   - Is one greater than the other?\n",
        "   - Is one less than or equal to the other?\n",
        "\n",
        "3. Optional: Try comparing two strings (e.g., `\"banana\" > \"apple\"`) and explain the result.\n"
      ],
      "metadata": {
        "id": "XJhtRnRYhor4"
      }
    },
    {
      "cell_type": "markdown",
      "source": [
        "## 🧠 6. Logical Operators\n",
        "\n",
        "Logical operators let you **combine multiple conditions**.\n",
        "\n",
        "| Operator | Description                    | Example                   |\n",
        "|----------|--------------------------------|---------------------------|\n",
        "| `and`    | True if **both** conditions are True | `True and True → True` |\n",
        "| `or`     | True if **at least one** is True    | `True or False → True`  |\n",
        "| `not`    | Reverses the result               | `not True → False`       |\n",
        "\n",
        "These are very useful in `if` statements and filters.\n"
      ],
      "metadata": {
        "id": "oPQOtbIhhuN4"
      }
    },
    {
      "cell_type": "code",
      "source": [
        "age = 20\n",
        "is_student = True\n",
        "\n",
        "# Check multiple conditions with 'and'\n",
        "print(\"Is adult and student:\", age >= 18 and is_student)  # True\n"
      ],
      "metadata": {
        "colab": {
          "base_uri": "https://localhost:8080/"
        },
        "id": "FMisHPqkhmUI",
        "outputId": "079e3759-2ae3-4146-da7f-dc0b3238707d"
      },
      "execution_count": 18,
      "outputs": [
        {
          "output_type": "stream",
          "name": "stdout",
          "text": [
            "Is adult and student: True\n",
            "Is underage or student: True\n",
            "Is NOT a student: False\n",
            "True\n"
          ]
        }
      ]
    },
    {
      "cell_type": "code",
      "source": [
        "# Check with 'or'\n",
        "print(\"Is underage or student:\", age < 18 or is_student)  # True\n"
      ],
      "metadata": {
        "id": "y6nbTe5ejowm"
      },
      "execution_count": null,
      "outputs": []
    },
    {
      "cell_type": "code",
      "source": [
        "# Use 'not' to reverse\n",
        "print(\"Is NOT a student:\", not is_student)  # False\n",
        "\n"
      ],
      "metadata": {
        "id": "g-iLboB2jqTd"
      },
      "execution_count": null,
      "outputs": []
    },
    {
      "cell_type": "code",
      "source": [
        "# Combine more than two\n",
        "print(age > 18 and age < 30 and is_student)  # True"
      ],
      "metadata": {
        "id": "l0dHxAvwjqWB"
      },
      "execution_count": null,
      "outputs": []
    },
    {
      "cell_type": "markdown",
      "source": [
        "## Exercise 6.1\n",
        "\n",
        "### ✍️ Try it yourself!\n",
        "\n",
        "1. Create two variables: `has_ticket` and `is_sober` (both booleans).\n",
        "2. Write a condition that prints:\n",
        "   - `\"You can enter the concert\"` if both are True (use `and`)\n",
        "   - `\"Access denied\"` otherwise.\n",
        "\n",
        "3. Create a variable `age`, and print whether the person is either a minor OR not a student."
      ],
      "metadata": {
        "id": "KnyVygKcjwU9"
      }
    },
    {
      "cell_type": "markdown",
      "source": [
        "##  📚 7. Lists\n",
        "\n",
        "A **list** is a collection of items in a specific order.\n",
        "\n",
        "- You define a list with square brackets: `[ ]`\n",
        "- Items are separated by commas\n",
        "- You can store any data type (even mixed types!)\n",
        "\n",
        "📌 Lists are **zero-indexed**, meaning the first item is at index 0.\n",
        "\n",
        "You can:\n",
        "- Access items with `list[index]`\n",
        "- Add with `.append()`\n",
        "- Remove with `.remove()` or `del`\n",
        "- Check length with `len()`\n",
        "\n"
      ],
      "metadata": {
        "id": "GXcSEmWwh1JU"
      }
    },
    {
      "cell_type": "code",
      "source": [
        "# Create a list\n",
        "fruits = [\"apple\", \"banana\", \"cherry\", \"orange\"]\n",
        "print(fruits)"
      ],
      "metadata": {
        "colab": {
          "base_uri": "https://localhost:8080/"
        },
        "id": "2AKx8WvYh2hi",
        "outputId": "5dbf56c1-b3b6-45d7-fc6f-6de6b63faa2f"
      },
      "execution_count": 19,
      "outputs": [
        {
          "output_type": "stream",
          "name": "stdout",
          "text": [
            "['apple', 'banana', 'cherry', 'orange']\n"
          ]
        }
      ]
    },
    {
      "cell_type": "code",
      "source": [
        "# Access elements\n",
        "print(\"First fruit:\", fruits[0])\n",
        "print(\"Last fruit:\", fruits[-1])  # Negative index"
      ],
      "metadata": {
        "id": "-bc0JjTbh4J7"
      },
      "execution_count": null,
      "outputs": []
    },
    {
      "cell_type": "code",
      "source": [
        "# Add to list\n",
        "fruits.append(\"grape\")\n",
        "print(\"After adding:\", fruits)"
      ],
      "metadata": {
        "id": "Gjl6CXTskGUN"
      },
      "execution_count": null,
      "outputs": []
    },
    {
      "cell_type": "code",
      "source": [
        "# Remove an item\n",
        "fruits.remove(\"banana\")\n",
        "print(\"After removing banana:\", fruits)"
      ],
      "metadata": {
        "id": "e9uBLITAkGWW"
      },
      "execution_count": null,
      "outputs": []
    },
    {
      "cell_type": "code",
      "source": [
        "# Replace an item\n",
        "fruits[1] = \"kiwi\"\n",
        "print(\"After replacement:\", fruits)"
      ],
      "metadata": {
        "id": "1-OGZh3dkGY3"
      },
      "execution_count": null,
      "outputs": []
    },
    {
      "cell_type": "code",
      "source": [
        "# Check list length\n",
        "print(\"Number of fruits:\", len(fruits))"
      ],
      "metadata": {
        "colab": {
          "base_uri": "https://localhost:8080/"
        },
        "id": "GTbOfSaNkMo7",
        "outputId": "ff510da6-f7b8-4414-b4e2-391d34be8b9d"
      },
      "execution_count": 20,
      "outputs": [
        {
          "output_type": "stream",
          "name": "stdout",
          "text": [
            "Number of fruits: 4\n"
          ]
        }
      ]
    },
    {
      "cell_type": "markdown",
      "source": [
        "## 🧠 Bonus: Mixed Lists and Nested Lists\n"
      ],
      "metadata": {
        "id": "JfZWWsZTkSos"
      }
    },
    {
      "cell_type": "code",
      "source": [
        "# Mixed data types\n",
        "mixed = [\"Alice\", 30, True, 1.75]\n",
        "print(mixed)"
      ],
      "metadata": {
        "id": "kG65gsFckSyT"
      },
      "execution_count": null,
      "outputs": []
    },
    {
      "cell_type": "code",
      "source": [
        "# List of lists (2D)\n",
        "matrix = [[1, 2], [3, 4]]\n",
        "print(\"Element at [1][0]:\", matrix[1][0])\n"
      ],
      "metadata": {
        "id": "Pgc0nNRtkYzb"
      },
      "execution_count": null,
      "outputs": []
    },
    {
      "cell_type": "markdown",
      "source": [
        "## Exercise 7.1\n",
        "### ✍️ Try it yourself!\n",
        "\n",
        "1. Create a list of 5 of your favorite movies.\n",
        "2. Print:\n",
        "   - The first and third movie\n",
        "   - The last movie (use a negative index)\n",
        "3. Add a new movie to the list and print the updated list.\n",
        "4. Replace one movie with a new one.\n",
        "5. Print the total number of movies using `len()`.\n",
        "\n",
        "🎯 Bonus:\n",
        "- Create a list of 3 lists (each with 2 items), and access one specific item using two indexes.\n"
      ],
      "metadata": {
        "id": "z4xKVlfkh6By"
      }
    },
    {
      "cell_type": "markdown",
      "source": [
        "## 🧠 Code Lab 1 Assignment Exercises  \n",
        "\n",
        "Now it’s your turn! Complete these exercises using the concepts you've learned.  \n",
        "Think before you code — and try to write comments in your code to explain what you're doing.\n",
        "\n",
        "---\n",
        "\n",
        "### ✍️ Exercise A – The Future You (📏 Input + ➕ Arithmetic + 📦 Variables)  \n",
        "Ask the user for their name, current age, and dream job.  \n",
        "Print a message like:  \n",
        "> \"Hi Ana! In 5 years, you’ll be 27 and hopefully working as a marine biologist!\"\n",
        "\n",
        "---\n",
        "\n",
        "### ✍️ Exercise B – Study Tracker (📏 Input + ➕ Operators + str)  \n",
        "Ask the user how many hours they study per day and how many days per week.  \n",
        "Calculate total hours studied in a week and print a sentence like:  \n",
        "> \"You study 4 hours/day for 5 days/week = 20 hours per week.\"\n",
        "\n",
        "---\n",
        "\n",
        "### ✍️ Exercise C – Favorite Numbers List (📚 Lists + ➕ Operators)  \n",
        "Create a list of **5 favorite numbers**.  \n",
        "Print:\n",
        "- The sum of the numbers  \n",
        "- The average  \n",
        "- The largest and smallest values  \n",
        "- A new list with all numbers multiplied by 2\n",
        "\n",
        "---\n",
        "\n",
        "### ✍️ Exercise D – Book Collection (📖 Dictionaries + str formatting)  \n",
        "Create a dictionary for a favorite book with keys: `\"title\"\n"
      ],
      "metadata": {
        "id": "r6uGD3B_iH35"
      }
    },
    {
      "cell_type": "code",
      "source": [],
      "metadata": {
        "id": "yiMl79BliIUW"
      },
      "execution_count": null,
      "outputs": []
    }
  ]
}